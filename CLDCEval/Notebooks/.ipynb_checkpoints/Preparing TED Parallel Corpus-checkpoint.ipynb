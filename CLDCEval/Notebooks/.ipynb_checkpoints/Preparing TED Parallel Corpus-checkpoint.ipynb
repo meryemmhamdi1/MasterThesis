{
 "cells": [
  {
   "cell_type": "code",
   "execution_count": null,
   "metadata": {
    "collapsed": true
   },
   "outputs": [],
   "source": [
    "TED_PATH = \"/Users/MeryemMhamdi/Desktop/TED-Parallel/\"\n",
    "import glob"
   ]
  },
  {
   "cell_type": "code",
   "execution_count": null,
   "metadata": {
    "collapsed": true
   },
   "outputs": [],
   "source": [
    "lang_list = [\"de\", \"fr\", \"it\"]\n",
    "for lang in lang_list:\n",
    "    source_ted = \"en-%s\" %lang\n",
    "    for filename in glob.glob(TED_PATH + source_ted +\"/*\"):\n",
    "        with open(filename, \"r\") as file:\n",
    "            lines = file.readlines()\n",
    "            lines"
   ]
  },
  {
   "cell_type": "markdown",
   "metadata": {},
   "source": [
    "--------------------------------------------------------"
   ]
  },
  {
   "cell_type": "code",
   "execution_count": 7,
   "metadata": {},
   "outputs": [
    {
     "name": "stdout",
     "output_type": "stream",
     "text": [
      "For language: de\n",
      "For language: fr\n"
     ]
    }
   ],
   "source": [
    "import os\n",
    "import os.path\n",
    "import sys\n",
    "import pdb\n",
    "\n",
    "path_dataset = \"/Users/MeryemMhamdi/Desktop/TED-Parallel-short\"\n",
    "target_languages = [\"fr\",\"de\"]#, \"fr\", \"it\"]\n",
    "\n",
    "source_filepaths = []\n",
    "target_filepaths = []\n",
    "for language in sorted(target_languages):\n",
    "    print (\"For language:\", language)\n",
    "    pair_en_x = \"en-%s\" % language\n",
    "    pair_x_en = \"%s-en\" % language\n",
    "    path = os.sep.join([path_dataset, pair_en_x])\n",
    "    target_path = os.sep.join([path_dataset, pair_x_en])\n",
    "    documents = [cluster for cluster in os.listdir(path) if cluster.endswith(\".ted\")]\n",
    "    for document in sorted(documents):\n",
    "        source_filepath = path + os.sep + document\n",
    "        target_filepath = target_path + os.sep + document\n",
    "        source_filepaths.append(source_filepath)\n",
    "        target_filepaths.append(target_filepath)\n",
    "\n",
    "f_out_source = open(path_dataset+\"/ted.source\", \"w\")\n",
    "f_out_target = open(path_dataset+\"/ted.target\", \"w\")\n",
    "source_vocabulary = {}\n",
    "target_vocabulary = {}\n",
    "for source_filepath, target_filepath in zip(source_filepaths, target_filepaths):\n",
    "    f_source = open(source_filepath)\n",
    "    f_target = open(target_filepath)\n",
    "    for line_source, line_target in zip(f_source, f_target):\n",
    "        f_out_source.write(line_source)\n",
    "        f_out_target.write(line_target)\n",
    "        source_words = line_source.rstrip(\"\\n\").split(\" \")\n",
    "        target_words = line_target.rstrip(\"\\n\").split(\" \")\n",
    "        for word in source_words:\n",
    "            if word in source_vocabulary:\n",
    "                source_vocabulary[word] += 1\n",
    "            else:\n",
    "                source_vocabulary[word] = 1\n",
    "        for word in target_words:\n",
    "            if word in target_vocabulary:\n",
    "                target_vocabulary[word] += 1\n",
    "            else:\n",
    "                target_vocabulary[word] = 1\n",
    "\n",
    "    f_source.close()\n",
    "    f_target.close()\n",
    "\n",
    "f_out_source.close()\n",
    "f_out_target.close()\n",
    "f_out_source_vocab = open(path_dataset+\"/ted_vocab.source\", \"w\")\n",
    "f_out_target_vocab = open(path_dataset+\"/ted_vocab.target\", \"w\")\n",
    "for word in source_vocabulary:\n",
    "    f_out_source_vocab.write(\"%s\\t%d\\n\" % (word, source_vocabulary[word]))\n",
    "for word in target_vocabulary:\n",
    "    f_out_target_vocab.write(\"%s\\t%d\\n\" % (word, target_vocabulary[word]))\n",
    "f_out_source_vocab.close()\n",
    "f_out_target_vocab.close()"
   ]
  },
  {
   "cell_type": "code",
   "execution_count": null,
   "metadata": {
    "collapsed": true
   },
   "outputs": [],
   "source": []
  }
 ],
 "metadata": {
  "kernelspec": {
   "display_name": "Python 3",
   "language": "python",
   "name": "python3"
  },
  "language_info": {
   "codemirror_mode": {
    "name": "ipython",
    "version": 3
   },
   "file_extension": ".py",
   "mimetype": "text/x-python",
   "name": "python",
   "nbconvert_exporter": "python",
   "pygments_lexer": "ipython3",
   "version": "3.6.4"
  }
 },
 "nbformat": 4,
 "nbformat_minor": 2
}
