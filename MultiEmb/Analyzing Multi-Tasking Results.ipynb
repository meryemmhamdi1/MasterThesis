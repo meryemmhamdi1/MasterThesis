{
 "cells": [
  {
   "cell_type": "code",
   "execution_count": 1,
   "metadata": {},
   "outputs": [],
   "source": [
    "dir_ = \"/Users/meryemmhamdi/Documents/Rig1/meryemRig1/home/meryem/meryem/Results/MultiTask/Tuned/\"\n",
    "with open(dir_+\"french_MONO_noemb_multi-tasking_epoch_9.txt\") as file:\n",
    "    fr_results = eval(file.readlines()[0])\n",
    "\n",
    "with open(dir_+\"italian_MONO_noemb_multi-tasking_epoch_9.txt\") as file:\n",
    "    it_results = eval(file.readlines()[0])\n",
    "    \n",
    "with open(dir_+\"english_MONO_noemb_multi-tasking_epoch_9.txt\") as file:\n",
    "    en_results = eval(file.readlines()[0])\n",
    "    \n",
    "with open(dir_+\"german_MONO_noemb_multi-tasking_epoch_9.txt\") as file:\n",
    "    de_results = eval(file.readlines()[0])\n"
   ]
  },
  {
   "cell_type": "code",
   "execution_count": 2,
   "metadata": {},
   "outputs": [
    {
     "data": {
      "text/plain": [
       "dict_keys(['train_recall_doc', 'train_acc_doc', 'train_precision_doc', 'train_true_doc', 'test_recall_doc_italian', 'test_precision_doc_italian', 'test_f1_score_doc_italian', 'test_true_doc_italian', 'train_f1_score_doc', 'test_acc_doc_italian', 'train_pred_doc', 'test_pred_doc_italian', 'train_loss_doc'])"
      ]
     },
     "execution_count": 2,
     "metadata": {},
     "output_type": "execute_result"
    }
   ],
   "source": [
    "it_results.keys()"
   ]
  },
  {
   "cell_type": "code",
   "execution_count": 12,
   "metadata": {},
   "outputs": [
    {
     "name": "stdout",
     "output_type": "stream",
     "text": [
      "F1_scores: [0.03571428571428572, 0.297029702970297, 0.25925925925925924, 0.23404255319148937, 0.2622950819672131, 0.3009708737864078, 0.5084745762711864, 0.5084745762711864, 0.614487415592388, 0.5742913000977516]\n",
      "********************\n",
      "Precision: [0.019230769230769232, 0.26785714285714285, 0.175, 0.1527777777777778, 0.17777777777777776, 0.2152777777777778, 0.46875, 0.46875, 0.5347222222222222, 0.4895833333333333]\n",
      "********************\n",
      "Recall: [0.25, 0.3333333333333333, 0.5, 0.5, 0.5, 0.5, 0.5555555555555556, 0.5555555555555556, 0.7222222222222222, 0.6944444444444444]\n"
     ]
    }
   ],
   "source": [
    "print(\"F1_scores:\", en_results[\"test_f1_score_doc_english\"])\n",
    "print(\"********************\")\n",
    "print(\"Precision:\", en_results[\"test_precision_doc_english\"])\n",
    "print(\"********************\")\n",
    "print(\"Recall:\", en_results[\"test_recall_doc_english\"])"
   ]
  },
  {
   "cell_type": "code",
   "execution_count": 13,
   "metadata": {},
   "outputs": [
    {
     "name": "stdout",
     "output_type": "stream",
     "text": [
      "F1_scores: [0.7296466973886329, 0.9392446633825944, 0.8602150537634408, 0.8953168044077134, 0.9392446633825944, 0.8953168044077134, 0.9392446633825944, 0.9392446633825944, 0.9392446633825944, 0.8953168044077134]\n",
      "********************\n",
      "Precision: [0.7575757575757575, 0.9166666666666666, 0.8333333333333334, 0.8666666666666667, 0.9166666666666666, 0.8666666666666667, 0.9166666666666666, 0.9166666666666666, 0.9166666666666666, 0.8666666666666667]\n",
      "********************\n",
      "Recall: [0.7037037037037037, 0.9629629629629629, 0.8888888888888888, 0.9259259259259259, 0.9629629629629629, 0.9259259259259259, 0.9629629629629629, 0.9629629629629629, 0.9629629629629629, 0.9259259259259259]\n"
     ]
    }
   ],
   "source": [
    "print(\"F1_scores:\", de_results[\"test_f1_score_doc_german\"])\n",
    "print(\"********************\")\n",
    "print(\"Precision:\", de_results[\"test_precision_doc_german\"])\n",
    "print(\"********************\")\n",
    "print(\"Recall:\", de_results[\"test_recall_doc_german\"])"
   ]
  },
  {
   "cell_type": "code",
   "execution_count": 2,
   "metadata": {},
   "outputs": [
    {
     "name": "stdout",
     "output_type": "stream",
     "text": [
      "F1_scores: [0.534037558685446, 0.5359815774323546, 0.7096270259714897, 0.6969696969696969, 0.8647497337593183, 0.6107382550335569, 0.8647497337593183, 0.7689848121502798, 0.7689848121502798, 0.7689848121502798]\n",
      "********************\n",
      "Precision: [0.49242424242424243, 0.5444444444444444, 0.7979797979797979, 0.7666666666666666, 0.9333333333333332, 0.7, 0.9333333333333332, 0.8222222222222223, 0.8222222222222223, 0.8222222222222223]\n",
      "********************\n",
      "Recall: [0.5833333333333334, 0.5277777777777778, 0.6388888888888888, 0.6388888888888888, 0.8055555555555555, 0.5416666666666666, 0.8055555555555555, 0.7222222222222222, 0.7222222222222222, 0.7222222222222222]\n"
     ]
    }
   ],
   "source": [
    "print(\"F1_scores:\", fr_results[\"test_f1_score_doc_french\"])\n",
    "print(\"********************\")\n",
    "print(\"Precision:\", fr_results[\"test_precision_doc_french\"])\n",
    "print(\"********************\")\n",
    "print(\"Recall:\", fr_results[\"test_recall_doc_french\"])"
   ]
  },
  {
   "cell_type": "code",
   "execution_count": 3,
   "metadata": {},
   "outputs": [
    {
     "name": "stdout",
     "output_type": "stream",
     "text": [
      "F1_scores: [0.2, 0.2, 0.2, 0.2, 0.2, 0.3247863247863248, 0.41280353200883, 0.48837209302325585, 0.42076991942703673, 0.5727784479292319]\n",
      "********************\n",
      "Precision: [0.16666666666666666, 0.16666666666666666, 0.16666666666666666, 0.16666666666666666, 0.16666666666666666, 0.3333333333333333, 0.4722222222222222, 0.4772727272727273, 0.4545454545454546, 0.5347222222222222]\n",
      "********************\n",
      "Recall: [0.25, 0.25, 0.25, 0.25, 0.25, 0.31666666666666665, 0.3666666666666667, 0.5, 0.39166666666666666, 0.6166666666666667]\n"
     ]
    }
   ],
   "source": [
    "print(\"F1_scores:\", it_results[\"test_f1_score_doc_italian\"])\n",
    "print(\"********************\")\n",
    "print(\"Precision:\", it_results[\"test_precision_doc_italian\"])\n",
    "print(\"********************\")\n",
    "print(\"Recall:\", it_results[\"test_recall_doc_italian\"])"
   ]
  },
  {
   "cell_type": "code",
   "execution_count": null,
   "metadata": {},
   "outputs": [],
   "source": []
  }
 ],
 "metadata": {
  "kernelspec": {
   "display_name": "Python 3",
   "language": "python",
   "name": "python3"
  },
  "language_info": {
   "codemirror_mode": {
    "name": "ipython",
    "version": 3
   },
   "file_extension": ".py",
   "mimetype": "text/x-python",
   "name": "python",
   "nbconvert_exporter": "python",
   "pygments_lexer": "ipython3",
   "version": "3.6.4"
  }
 },
 "nbformat": 4,
 "nbformat_minor": 2
}
