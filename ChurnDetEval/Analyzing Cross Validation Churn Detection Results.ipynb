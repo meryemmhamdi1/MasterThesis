{
 "cells": [
  {
   "cell_type": "code",
   "execution_count": 1,
   "metadata": {},
   "outputs": [
    {
     "name": "stdout",
     "output_type": "stream",
     "text": [
      "0\n",
      "1\n",
      "2\n",
      "3\n",
      "4\n",
      "5\n",
      "6\n",
      "7\n",
      "8\n",
      "9\n"
     ]
    }
   ],
   "source": [
    "import _pickle as pkl\n",
    "import numpy as np\n",
    "f1_scores_de = []\n",
    "f1_scores_en = []\n",
    "acc_scores_de = []\n",
    "acc_scores_en = []\n",
    "prec_scores_de = []\n",
    "prec_scores_en = []\n",
    "rec_scores_de = []\n",
    "rec_scores_en = []\n",
    "trg_en = []\n",
    "trg_de = []\n",
    "pred_en = []\n",
    "pred_de = []\n",
    "\n",
    "###########\n",
    "f1_scores_bot_de = []\n",
    "f1_scores_bot_en = []\n",
    "acc_scores_bot_de = []\n",
    "acc_scores_bot_en = []\n",
    "prec_scores_bot_de = []\n",
    "prec_scores_bot_en = []\n",
    "rec_scores_bot_de = []\n",
    "rec_scores_bot_en = []\n",
    "for i in range(0,10):\n",
    "    print(i)\n",
    "    file_path = \"/Users/meryemmhamdi/Documents/meryemRig1/home/meryem/meryem/Results/ChurnDet/CGA_CrossValEN,DE_EXP_DIC_Keras_Models_CHURN_fold_\"+str(i)+\"_results.p\"\n",
    "    with open(file_path, \"rb\") as file:\n",
    "        results = pkl.load(file, encoding=\"latin1\")\n",
    "    f1_scores_de_sub = []\n",
    "    f1_scores_en_sub = []\n",
    "    acc_scores_de_sub = []\n",
    "    acc_scores_en_sub = []\n",
    "    prec_scores_de_sub = []\n",
    "    prec_scores_en_sub = []\n",
    "    rec_scores_de_sub = []\n",
    "    rec_scores_en_sub = []\n",
    "    trg_en_sub = []\n",
    "    trg_de_sub = []\n",
    "    pred_en_sub = []\n",
    "    pred_de_sub = []\n",
    "    for j in range(0,len(results[\"test_metrics_de\"])):\n",
    "        f1_scores_de_sub.append(results[\"test_metrics_de\"][j][\"f1_macro\"])\n",
    "        f1_scores_en_sub.append(results[\"test_metrics_en\"][j][\"f1_macro\"])\n",
    "        \n",
    "        acc_scores_de_sub.append(results[\"test_metrics_de\"][j][\"acc\"])\n",
    "        acc_scores_en_sub.append(results[\"test_metrics_en\"][j][\"acc\"])\n",
    "        \n",
    "        prec_scores_de_sub.append(results[\"test_metrics_de\"][j][\"precision_macro\"])\n",
    "        prec_scores_en_sub.append(results[\"test_metrics_en\"][j][\"precision_macro\"])\n",
    "        \n",
    "        rec_scores_de_sub.append(results[\"test_metrics_de\"][j][\"recall_macro\"])\n",
    "        rec_scores_en_sub.append(results[\"test_metrics_en\"][j][\"recall_macro\"])\n",
    "        \n",
    "        trg_en_sub.append(results[\"y_test_trg_en\"][j])\n",
    "        trg_de_sub.append(results[\"y_test_trg_de\"][j])\n",
    "        \n",
    "        pred_en_sub.append(results[\"y_test_pred_en\"][j])\n",
    "        pred_de_sub.append(results[\"y_test_pred_de\"][j])\n",
    "        \n",
    "    f1_scores_de.append(f1_scores_de_sub)\n",
    "    f1_scores_en.append(f1_scores_en_sub)\n",
    "    \n",
    "    acc_scores_de.append(acc_scores_de_sub)\n",
    "    acc_scores_en.append(acc_scores_en_sub)\n",
    "    \n",
    "    prec_scores_de.append(prec_scores_de_sub)\n",
    "    prec_scores_en.append(prec_scores_en_sub)\n",
    "    \n",
    "    rec_scores_de.append(rec_scores_de_sub)\n",
    "    rec_scores_en.append(rec_scores_en_sub)\n",
    "    \n",
    "    trg_en.append(trg_en_sub)\n",
    "    trg_de.append(trg_de_sub)\n",
    "\n",
    "    pred_en.append(pred_en_sub)\n",
    "    pred_de.append(pred_de_sub)\n",
    "        \n",
    "    f1_scores_bot_de_sub = []\n",
    "    f1_scores_bot_en_sub = []\n",
    "    acc_scores_bot_de_sub = []\n",
    "    acc_scores_bot_en_sub = []\n",
    "    prec_scores_bot_de_sub = []\n",
    "    prec_scores_bot_en_sub = []\n",
    "    rec_scores_bot_de_sub = []\n",
    "    rec_scores_bot_en_sub = []\n",
    "    for j in range(0,len(results[\"test_bot_metrics_de\"])):\n",
    "        f1_scores_bot_de_sub.append(results[\"test_bot_metrics_de\"][j][\"f1_macro\"])\n",
    "        f1_scores_bot_en_sub.append(results[\"test_bot_metrics_en\"][j][\"f1_macro\"])\n",
    "        \n",
    "        acc_scores_bot_de_sub.append(results[\"test_bot_metrics_de\"][j][\"acc\"])\n",
    "        acc_scores_bot_en_sub.append(results[\"test_bot_metrics_en\"][j][\"acc\"])\n",
    "        \n",
    "        prec_scores_bot_de_sub.append(results[\"test_bot_metrics_de\"][j][\"precision_macro\"])\n",
    "        prec_scores_bot_en_sub.append(results[\"test_bot_metrics_en\"][j][\"precision_macro\"])\n",
    "        \n",
    "        rec_scores_bot_de_sub.append(results[\"test_bot_metrics_de\"][j][\"recall_macro\"])\n",
    "        rec_scores_bot_en_sub.append(results[\"test_bot_metrics_en\"][j][\"recall_macro\"])\n",
    "        \n",
    "    \n",
    "    f1_scores_bot_de.append(f1_scores_bot_de_sub)\n",
    "    f1_scores_bot_en.append(f1_scores_bot_en_sub)\n",
    "    \n",
    "    acc_scores_bot_de.append(acc_scores_bot_de_sub)\n",
    "    acc_scores_bot_en.append(acc_scores_bot_en_sub)\n",
    "    \n",
    "    prec_scores_bot_de.append(prec_scores_bot_de_sub)\n",
    "    prec_scores_bot_en.append(prec_scores_bot_en_sub)\n",
    "    \n",
    "    rec_scores_bot_de.append(rec_scores_bot_de_sub)\n",
    "    rec_scores_bot_en.append(rec_scores_bot_en_sub)"
   ]
  },
  {
   "cell_type": "code",
   "execution_count": 116,
   "metadata": {},
   "outputs": [
    {
     "data": {
      "text/plain": [
       "array([0, 0, 0, 0, 0, 0, 0, 0, 0, 0, 1, 0, 0, 0, 0, 1, 0, 0, 0, 0, 0, 0,\n",
       "       0, 0, 0, 0, 1, 1, 0, 0, 0, 0, 0, 0, 0, 0, 1, 0, 1, 0, 1, 0, 0, 0,\n",
       "       1, 0, 0, 0, 0, 0, 0, 0, 0, 0, 0, 0, 0, 0, 0, 0, 0, 1, 0, 0, 1, 0,\n",
       "       0, 0, 0, 0, 0, 0, 0, 0, 0, 0, 0, 0, 0, 0, 0, 0, 0, 1, 1, 0, 0, 1,\n",
       "       0, 0, 0, 1, 0, 0, 0, 0, 0, 0, 1, 0, 0, 0, 0, 0, 0, 0, 0, 1, 0, 0,\n",
       "       0, 0, 1, 0, 1, 0, 1, 0, 0, 1, 0, 0, 0, 0, 0, 0, 0, 0, 0, 1, 0, 0,\n",
       "       0, 0, 0, 1, 0, 1, 1, 0, 0, 0, 0, 0, 0, 1, 0, 0, 0, 1, 1, 0, 0, 0,\n",
       "       0, 0, 0, 0, 0, 0, 1, 0, 0, 0, 0, 0, 1, 0, 0, 0, 0, 1, 0, 0, 0, 0,\n",
       "       1, 0, 1, 0, 0, 0, 0, 0, 0, 0, 0, 0, 0, 1, 1, 0, 0, 1, 0, 0, 0, 1,\n",
       "       0, 0, 0, 0, 0, 1, 0, 1, 0, 0, 0, 0, 0, 1, 0, 1, 0, 0, 1, 0, 0, 0,\n",
       "       0, 0, 0, 0, 0, 0, 0, 0, 1, 0, 0, 0, 0, 0, 0, 0, 0, 0, 0, 0, 0, 0,\n",
       "       0, 0, 0, 0, 0, 0, 0, 0, 1, 0, 0, 0, 0, 0, 0, 0, 0, 1, 0, 1, 0, 0,\n",
       "       0, 0, 0, 1, 0, 1, 0, 0, 0, 0, 0, 0, 0, 0, 0, 0, 0, 0, 0, 0, 0, 1,\n",
       "       0, 0, 0, 1, 0, 0, 1, 0, 0, 0, 0, 0, 0, 0, 0, 0, 0, 0, 1, 0, 0, 1,\n",
       "       0, 1, 1, 0, 0, 0, 0, 1, 0, 0, 0, 0, 0, 0, 0, 0, 0, 0, 1, 0, 0, 0,\n",
       "       0, 0, 0, 1, 1, 0, 1, 1, 1, 0, 0, 1, 0, 0, 0, 0, 0, 0, 1, 0, 0, 0,\n",
       "       0, 1, 0, 0, 1, 0, 0, 0, 0, 0, 0, 1, 0, 0, 0, 0, 0, 0, 0, 1, 1, 1,\n",
       "       1, 0, 1, 0, 0, 0, 1, 0, 0, 1, 0, 0, 0, 0, 0, 0, 0, 1, 0, 0, 0, 0,\n",
       "       1, 0, 1, 0, 0, 1, 1, 0, 0, 0, 1, 0, 0, 0, 0, 0, 0, 0, 0, 1, 0, 0,\n",
       "       1, 0, 0, 1, 0, 0, 0, 0, 0, 0, 1, 1, 0, 0, 0, 1, 0, 0, 0, 0, 0, 0,\n",
       "       0, 0, 1, 0, 0, 0, 0, 0, 0, 1, 0, 1, 0, 0, 0, 0, 0, 0, 0, 0, 0, 0,\n",
       "       0, 0, 0, 0, 1, 0, 0, 0, 0, 0, 0, 0, 0, 0, 0, 0, 0, 0, 1, 0, 0, 0,\n",
       "       0, 0, 0, 0, 0, 0, 1, 0])"
      ]
     },
     "execution_count": 116,
     "metadata": {},
     "output_type": "execute_result"
    }
   ],
   "source": [
    "trg_en[0][8]"
   ]
  },
  {
   "cell_type": "code",
   "execution_count": 128,
   "metadata": {},
   "outputs": [],
   "source": [
    "x_en = []\n",
    "y_en = []\n",
    "with open(\"/Users/meryemmhamdi/Desktop/rig1/home/meryem/meryem/Results/ChurnDet/x_test_en_fold_0.txt\") as file:\n",
    "    for line in file:\n",
    "        x = line.split(\"\\t\")[0]\n",
    "        y = int(line.split(\"\\t\")[1].rstrip(\"\\n\"))\n",
    "        x_en.append(x)\n",
    "        y_en.append(y)\n",
    "        \n",
    "x_de = []\n",
    "y_de = []\n",
    "with open(\"/Users/meryemmhamdi/Desktop/rig1/home/meryem/meryem/Results/ChurnDet/x_test_de_fold_0.txt\") as file:\n",
    "    for line in file:\n",
    "        x = line.split(\"\\t\")[0]\n",
    "        y = int(line.split(\"\\t\")[1].rstrip(\"\\n\"))\n",
    "        x_de.append(x)\n",
    "        y_de.append(y)"
   ]
  },
  {
   "cell_type": "code",
   "execution_count": 130,
   "metadata": {
    "scrolled": true
   },
   "outputs": [
    {
     "data": {
      "text/plain": [
       "['überragend gutes gespräch zur vertragsverlängerung bei ziel damit geht s ins number repeat jahr konnte mich bisher nie beschweren ☺️ ',\n",
       " 'ziel nun möchte ich nicht sms nach irland dafür geschickt werden ich gehe auf abbrechen alles ist aktiv user ',\n",
       " 'ziel könnt ihr mal bitte nach dem internet und tv in number schauen hier geht nichts mehr ',\n",
       " 'ziel dachte da würde es reichen wenn ich die portierung einfach beauftragen weil es ja von ziel nach ziel ist smile schic… url ',\n",
       " 'ziel es geht mal nichts mehr später am tag nur die verbindung zur konsole ',\n",
       " 'ziel zuhause ist ungedrosseltes ziel internet langsamer als gedrosseltes bin deshalb zu eurer konkurrenz gewechselt… url ',\n",
       " 'ziel user endlich wettbewerber schon überlegt zu deezer zu wechseln ',\n",
       " 'servicetweet hashtag ziel mailbox geht zu schnell an hier der code zum max verlängern auf number sek wähle number number number hashtag ',\n",
       " 'huhu ziel wo finde ich einen antrag auf opt in für eine vorzeitige portierung der rufnummer mobil ',\n",
       " 'ziel easybell sagt eine übernahme ist nicht mehr möglich amp wird abgelehnt maximal nachträgliche portierung der nr wäre möglich ',\n",
       " 'es ist so wichtig sich mal auszeiten vom internet zu nehmen sich auf sich besinnen die ruhe zu fuck ja ok mein wlan geht nicht danke ziel ',\n",
       " 'user nein eine anpassung ist nicht geplant du kannst aber zu ziel gigacube wechseln kma ',\n",
       " 'ziel gibt es einen status zur internet störung über kabel im raum regensburg seit ca number uhr geht hier nix mehr ',\n",
       " 'ziel warum geht mein netz erneut nicht das ist das mal in einem monat wollt ihr das man den anbieter wechselt oder wie ',\n",
       " 'ziel das klingt gut zu den genannten konditionen würde ich dann doch gern wechseln smile ',\n",
       " 'ziel was meinen sie geht es darum für das internet zu zahlen und nichts zu bekommen ',\n",
       " 'so ziel wie geht es weiter die zugesagte rückmeldung des mitarbeiters nach seinem urlaub ist natürlich nicht erfolgt repeat ',\n",
       " 'ziel support nicht erreichbar timeout nach number m warteschlange dsl geht nicht damit auch tel nicht ticket number ist offen es reicht ',\n",
       " 'ziel also es scheint an der twitter app zu liegen im browser geht s okay dann lass ich das im browser ',\n",
       " 'hashtag störung hashtag ziel kein dsl in number kein service keiner geht ran wechsel nach dem urlaub ',\n",
       " 'ziel mein internet geht nicht es lädt absolut keine webseite am pc beim handy laden nachrichten sehr langsamrouterkocker number mal ',\n",
       " 'user immer das gleiche ging bei meinem wechsel von dsl bei netaachen zu vdsl bei ziel aber problemlos ',\n",
       " 'ziel sitze im urlaub auf fuerteventura und zuhause geht nichts mehr weder internet noch telefon ',\n",
       " 'ziel in der app hab ich zumindest mal zugriff auf die vertragsdaten im web geht s aber in verschiedenen browsern nicht ',\n",
       " 'ziel danke gibt es evt ideen den unbefristeten leistungsausfall irgendwie zu vergüten es geht ja nicht um kur… url ',\n",
       " 'ziel toll wie ich alle number minuten die verbindung verliere smile muss ich wohl den anbieter wechseln ',\n",
       " 'ziel anruf für technikertermin nach number min musik zuende dann noch zweimal ein klopfen gehört dann wurde aufgeleg… url ',\n",
       " 'musste vorhin mit der ziel hotline telefonieren am anderen ende war ein inder ich dachte gleich an big bang therorie ',\n",
       " 'danke für die info ziel die ist sehr nützlich wenn sie number stunden nachdem ich nl verlassen habe kommt url ',\n",
       " 'ziel ok pn ist raus repeat letzte chance morgen mittag gehn wir dann zum wettbewerber shop in die stadt wettbewerber ',\n",
       " 'ziel mittlerweile geht alles wieder nachdem hier heute telefonie amp wlan sowie fernseh nicht ging repeat ',\n",
       " 'rt ziel schutz vor hashtag blitzschlag geht das welche vor und nachteile gibt es da das erfahrt ihr in unserem hashtag blog url ',\n",
       " 'ziel den nerven am ende keiner kann eine verbindliche auskunft geben unfreundliche mitarbeiter termine ohne absage platzen ',\n",
       " 'ziel aber sicher geht auch nach dem number mal und einer nacht warten nicht super techlologie auf die gewechselt wurde i love nodsl ',\n",
       " 'ziel seit number tage internet leistungseinbrüche bis hin zum „ totalausfall “ standort bad bevensen wann geht es den wieder ',\n",
       " 'rt user user seitdem ziel und kabel de zusammen gehören ist das wirklich schlechter geworden aber heute ist es iwie… ',\n",
       " 'ziel can do außer wie in der kündigung explizit gewünscht das opt in für die portierung zu setzen repeat hashtag scheißverein hashtag ziel ',\n",
       " 'ziel hab zu hause seit gestern ständig inet probleme erst geht nichtmal die anmeldung und ehe man drin ist fliegt man wieder raus ',\n",
       " 'user ziel deswegen geh ich bei uns in den shop da sind die zum glück echt kompetent und freundlich ',\n",
       " 'user ziel ziel habe ähnliche probleme ziel sagt dass genug leistung ankommt ',\n",
       " 'user ziel jepp so mach ich das immer ich gehe zu hippen events um dann nur auf mein smartphone zu schauen oder zu telefonieren ',\n",
       " 'ziel hallo ziel kann ich von den eu roaming packet für number monat zu dem für number tag wechseln wenn die aufgebraucht sind ',\n",
       " 'ziel und zwar geht es um eine dsl verbindung spätestens nach number min wird diese immer wieder getrennt ',\n",
       " 'rt user netter trick ziel die roaming gebühren sind abgeschafft aber ein wechsel in den eu tarif lasst ihr nicht zu so macht man… ',\n",
       " 'langsam habe ich echt die schnauze voll nach einigen tagen ruhe kackt nun wieder die internetverbindung ab danke ziel ',\n",
       " 'ziel habe am sonntag einen vertrag abgeschlossen die bestätigung kam montag bis jetzt aber keine simkarte am number soll portiert werden ',\n",
       " 'ziel wieso muss ich jetzt schon tage darauf warten dass mein internet wieder geht number nicht mal ne rückmeldung zum status ',\n",
       " 'ziel bietet ihr eigentlich auch ne art service an wenn man von nem anderen provider zu euch wechseln möchte ',\n",
       " 'ziel über lan geht es auch nicht und alles scheint zu funktionieren keine fehler ',\n",
       " 'und wieder kein internet für paar tage danke wettbewerber erst auf internet warten und nun das ich sollte einfach zur ziel gehen ',\n",
       " 'user ziel das war schon ein saftladen als es noch fernmeldeamt hieß und zur post gehörte ',\n",
       " 'ziel besteht die möglichkeit einer rückabwicklung des wechsels portierungsauftrag kündigung alter anb… url ',\n",
       " 'ich schätze ab gb datenvolumen werden sowieso die meisten zu ziel wechseln ihr seid cool ich bleibe bei euch ziel ',\n",
       " 'ziel kann man mit einer vvl magentamobil m in den aktuellen online tarif für number number eur wechseln vertrag läuft zum number number number ab ',\n",
       " 'ziel ich erwarte heute noch von euch angerufen zu werden meine nummer habt ihr ja ich geh auch ran ich bin ja nicht ihr ',\n",
       " 'user zu früh über ziel netz getwittert portal meldet schon wieder dass es nicht geht jetzt geht es wieder repeat ',\n",
       " 'ziel ziel aufgrund von inaktivität mussten wir den chat leider beenden bitte melden sie sich erneut an number … url ',\n",
       " 'user user ziel bei wettbewerber hat es in irland funktioniert keine zusätzlichen kosten gehabt ',\n",
       " 'ziel kleiner hinweis ich würde eure netten tel kundenberater gerne bewerten aber bisher kam die angekündigte umfrage am ende nie ',\n",
       " 'ziel mitarbeit ich hab euch die scheiße oft genug geschickt es liegt nicht an meiner verbindung vom… url ',\n",
       " 'hi freunde ich hab jetzt seit knapp number stunden kein wlan übers dsl mehr scheint mir nicht alleine so zu gehen in berlin was da los ziel ',\n",
       " 'ziel mit dieser antenne jetzt die gleiche zelle nur stärker sph geht nach signalstärke und nicht signalq… url ',\n",
       " 'user user repeat dachte du möchtest das ggf wissen bevor du erwägst zu ziel zu wechseln ',\n",
       " 'user ziel ziel na wenigstens regen hier bei uns reichts wenn im dorf unten einer furzt d… url ',\n",
       " 'ziel kann ich bei euch eine geänderte kd nr zwecks mobil portierung zu euch angeben eilt sehr danke ',\n",
       " 'ziel wollte nur mob tarif wechseln zu euren gunsten sitze jetzt mit doppelt sovielen verträgen nummern da geht s noch tbc ',\n",
       " 'ziel och brauchst gar nicht es reicht mir schon wenn ihr es ihm zuschickt smile ',\n",
       " 'ziel ok weil ich darüber jetzt schon mal angerufen wurde und niemand am anderen ende der leitung war ',\n",
       " 'rt user ziel die ziel ist absolut nicht zu empfehlen ich zieh ab number number um und wechsel dann zu wettbewerber ',\n",
       " 'ziel die nummer number gehört auch nicht zu eurem kundenservice nehme ich an ',\n",
       " 'ziel ich habe ja immer noch die befürchtung dass am ende einer kommt und sagt ätschbätsch schön verarscht gibt nur verctoring ',\n",
       " 'user user ziel werde auch zur konkurrenz wechseln nur problem ',\n",
       " 'ziel das habe ich schon versucht auch an der hotline nach ¼ jahr geht es dann meistens wieder los ',\n",
       " 'das wird sportlich user ziel tarif bestellt portierungstermin bestätigt für den aber bisher keine hashtag sim karte unterwegs ',\n",
       " 'user user ziel wettbewerber wettbewerber gehört doch auch zu ziel smile ich fand congstar bisher am besten muss ich sagen ',\n",
       " 'ziel anspruch nehmen wird repeat meine geduld ist jetzt wirklich am ende ',\n",
       " 'peinlich dass es ziel nicht schafft einen vernünftigen empfang sicher zu stellen number min im stadion kein signal gehabt stark ',\n",
       " 'ziel wohin geht der schwule ardler zu seinem horst ',\n",
       " 'user wettbewerber weil die zur eu gehören und eh schon die gleichen konditionen haben ',\n",
       " 'rt user wettbewerber schon ein grund nicht zu wettbewerber zu wechseln repeat wer die türkei hofiert repeat gehört abgeschafft ',\n",
       " 'ziel versuche die nr von euch seit über einem monat zu portieren kundenservice legt einfach mitten im gespräch a… url ',\n",
       " 'ziel danke für die info repeat dann will ich mal abwarten hoffentlich hat sich der wechsel vom kaffeeröster zum smart s tarif gelohnt ',\n",
       " 'user geh zu ziel die können sogar aufm mond url ',\n",
       " 'ziel die konkurrenz hat eine app mit einem widget dass einem den kumuliertern datenverbrauch aller zu dies… url ',\n",
       " 'user das lustige ist ziel number k number € wettbewerber number k leitung number € number mb dl ',\n",
       " 'user ziel die app geht jedenfalls scheint der verbrauch okay zu sein nur bin ich nicht erreichbar unter lte sadface ',\n",
       " 'user von denen und war bisher zufrieden user kann sich bei ziel mal eine schulung kundenservice holen ziel weiß wie das geht ',\n",
       " 'ziel seit gestern geht kein wlan wartezeit am telefon mindestens number minuten nach minuten repeat heute kann ihnen nicht geholfen werden ',\n",
       " 'ziel zu hause aufjedenfall ist ziemlich langsam es geht aber für das jahr number eher lächerlich unterwegs habe ich wettbewerber ',\n",
       " 'ziel dann hat man ein neuen router von euch und hat gehofft in zukunft wird alles besser repeat nichts ist besser geworden ',\n",
       " 'ziel das ist unterschiedlich und wechselt eine kausalität zu irgendwas habe ich noch nicht feststellen können ',\n",
       " 'ziel der ort spielt keine rolle nach wenigen sek flugmodus geht s dann wieder ein paar min war vor dem wechsel definitiv nicht ',\n",
       " 'ziel ne sollte alles seinen gang gehen leider verlangt drillisch unsummen für die portierung aber hin… url ',\n",
       " 'ziel hi wechsel von s prepaid zu magenta l nicht möglich magentamobil start s plus kann aktuell leider nicht geändert werden ',\n",
       " 'rt user ziel jetzt geht s wieder merci aber wie können die kinder zufrieden sein solange ihr kein vdsl in unserer straße… ',\n",
       " 'der mann hat sich hier rumgeärgert und ewig in warteschleifen gehangen und ist nach number min rausgeflogen und wir mögen ziel nicht mehr ',\n",
       " 'ziel wettbewerber und gehört zu meinem onkel bei diesem ich ja wohne mfg ',\n",
       " 'ziel hieß es heute am number juli würde die rufnummer portiert werden jetzt bekommen wir eine ziel sm… url ',\n",
       " 'user ziel ach stimmt ja ziel wieso hab ich dann bei euch kein lte netz wechselt zwischen e und h ',\n",
       " 'ziel das spiel geht weiter mittlerweile der auftrag storniert ohne info warum bin hier zum spielball der ziel geworden ',\n",
       " 'ziel mein wechselberater ruft nicht zurück hilfe ',\n",
       " 'ziel benutze ich nicht mir geht es in erster linie auch nur um das internet das immer noch nicht geht auch nach router neustart ',\n",
       " 'ziel es von euch irgendwo eine offizielle aussage zum thema hashtag vorratsdatenspeicherung wie geht ihr damit um ',\n",
       " 'ziel was ist im ziel los seit wochen ständig anrufer direkt zur mailbox trotz vollem empfang repeat auch ziel zu ziel calls geht garnicht ',\n",
       " 'ziel kann ich hier eine rufnummerfreigabe für die portierung beauftragen im live chat komme ich einfach nicht dran ',\n",
       " 'ziel es geht schon wieder los ständig bricht die leitung zusammen wenn ihr das nicht in den griff kriegt sagt doch ehrlich bescheid ',\n",
       " 'user nie ohne probleme funktioniert ich wechsel jetzt zu ziel ',\n",
       " 'ziel nein wettbewerber wir schon probiert für eine übergangslösung dauert das auch allles zu lange wir haben die konkurrenz bemüht ',\n",
       " 'ziel huhu wie schaut es denn nun aus mit dem angebot der vorzeitigen vertragsverlängerung und dem wechsel zu ziel number ',\n",
       " 'ziel ich bin wettbewerber kunde aber die dsl leitungen gehören der ziel deswegen ist bei uns die ziel dafür zuständig repeat ',\n",
       " 'user ziel ja bei den friends geht es zum anderen weiß ich nichts ',\n",
       " 'ziel im moment bin ich nicht zu hause aber warum geht es gegen number number zum wiederholten male auf unter mbit ',\n",
       " 'ziel wenn ich es richtig im kopf habe gehört blau de zu euch oder wenn ja wie kann man sich an den dortigen support wenden repeat ',\n",
       " 'ziel da ist die vermittlungsstelle warum ist ein kabel denn so schwierig zu reparieren das muss doch schneller gehen ',\n",
       " 'ziel user ich will auch bin auch bei euch sadface ',\n",
       " 'ziel wenn der angegebene wert wenigstens annähernd stabil bleiben würde… aber nicht mal das geht runter auf bis zu vdsl number ',\n",
       " 'ziel hilfe repeat hier geht nix mehr kein tv kein telefon kein internet nach dem update ',\n",
       " 'ziel ja und danke fürs klären laut der hotline scheint die hashtag windows number app nicht mit hashtag callya zu gehen sag… url ',\n",
       " 'ziel nach ca number minuten endlich einen sehr freundlichen mitarbeiter am telefon gehabt der morgen nochmal nen techniker schickt hashtag hrmpf ',\n",
       " 'ziel leute repeat was soll der kack mit hit spot geht nur mit anderen ziel geräten repeat geht nur noch von handy zu handy repeat nicht pc ',\n",
       " 'user sag mal kind hast du gar nichts gelernt wettbewerber hat doch nichts mit dem wlan zu tun repeat \\u200d♂️ geht denn internet über lan kabel ',\n",
       " 'wettbewerber wir würden gerne zu euch wechseln aber laut online tool nur number mbit mitten im ruhrgebiet ist das vllt ein fehler ',\n",
       " 'user ich hab wettbewerber free mit endlosem datenvolumen immer s genug youtube mit number auflösung ',\n",
       " 'ziel nein die frau am anderen ende hat sich auch stark gewundert hab mit jemandem im ziel netz telefoniert der gerade autobahn fuhr ',\n",
       " 'ziel number min wartezeit angekündigt nach std aufgelegt eure hotline geht gar nicht dabei wollte ich nur wissen warum ihr nicht abbucht ',\n",
       " 'ziel legt noch etwas volumen drauf und ich wechsel sofort zu euch dauerhaft rüber ',\n",
       " 'ziel nach number minuten warteschleife wettbewerber ich aufgegeben jetz funktioniert es wieder es wechselt alle paar… url ',\n",
       " 'ziel wenn das handy aus ist inkl akku kann aber doch das handy nix blocken repeat das muss also auf providerebene laufen ',\n",
       " 'ah nach einigen wochen pause gehts bei ziel mit dem hashtag gigaspam weiter hashtag spam hashtag unseriös hashtag berlin hashtag ziel url ',\n",
       " 'ziel ich habe bei der bestellung meines vertrages vergessen meine payback karte zu nutzen online number number geht das nachträgl ',\n",
       " 'user im grunde nicht schlimm da das ehemalige eplus netz auch zu ziel gehört in welchem plz bereich ms ',\n",
       " 'user hab keinen anbieterwechsel vorgenommen ziel selbst sagt geht erst nach altem tarifablauf im nov bis da… url ',\n",
       " 'ziel warum werden eig die daten des tarifs vor den number gb verbraucht hab jetzt number € verloren und heute laufen die number gb aus ',\n",
       " 'ziel telefonie im business festnetz funktioniert nicht zuverlässig im inland ausland geht garnicht ',\n",
       " 'ziel wollt ihr dort glasfaser ausbauen wo eure konkurrenz dg einen rückzieher macht number katzem braucht euch ',\n",
       " 'ziel geht um number € die mir seit november number zu unrecht abgebucht wurden ',\n",
       " 'ziel immerhin kam heute eine nachricht schon mal ein anfang nur wie ich das gehört hab hat noch keiner… url ',\n",
       " 'schöner blick vom hashtag ziel hauptstadt büro und erfolgreichen tag gehabt nun zurück nach dus hashtag gigabit company url ',\n",
       " 'ziel erst am number nach einigen erfolglosen seit warum geht das nicht schneller ',\n",
       " 'rt ziel user wieso haus verlassen url tu ',\n",
       " 'ziel guten abend mein dsl zuhause geht nicht wie soll ich mit dem service in verbindung setzen danke ',\n",
       " 'ziel dsl jetzt geht es aber wieder aber waren trotzdem störung da oder war es dem router einfach zu warm ',\n",
       " 'user ziel wlan nicht geht das äußert sich wie genau kannst du dich nicht zum router verbinden … url ',\n",
       " 'ziel wie sieht es bei euch mit dem service aus denn auf wettbewerber kann man sich nicht verlassen suche kabel internet ',\n",
       " 'hey ziel warum habe ich seit wochen nur noch number kb ps wettbewerber der vertraglich geregelten number number langsam die schnauze voll repeat ',\n",
       " 'user seitdem der laden zu ziel gehört halten sich die probleme in grenzen war schon mal schlimmer ',\n",
       " 'ziel ich zahle bereits genug im vergleich zu anderen anbietern aber danke es geht darum dass ein verbrauch von bei meinem nutzungsverhalten ',\n",
       " 'nun auch ziel – bye bye analog ziel will analoge tv signale in seinem kabelnetz… url ',\n",
       " 'ziel wenn nicht schon genug menschen interesse verkündet haben bin dabei repeat ',\n",
       " 'user user ziel da steht vorname url ',\n",
       " 'ziel war schon richtig so ich wechsel zu wem anders der zeitpunkt ist nur doof weil der vertrag b neuen anbieter erst am number in kraft tritt ',\n",
       " 'ziel ganz großes lob an die nacht service crew am telefon viel geduld kompetent nett auf die kann man sich echt verlassen ',\n",
       " 'vielen lieben dank ziel ziel aber ich habe dieses zeichen mittlerweile genug analysiert und betrachtet repeat top leistung url ',\n",
       " 'also man kann sich auf die jungs und mädels von ziel echt verlassen wow es zeigt das es bei der hashtag ziel auch anders geht super ',\n",
       " 'ziel bekomme ne meldung das es nicht geht gleich nach dem klick bei bestehenden vertrag hinzufügen ',\n",
       " 'ziel meine großmutter ist vor kurzem verstorben nun würde ich ihren vertrag gerne kündigen aber die rufnummer portieren geht das ',\n",
       " 'ziel warum braucht die ziel bis februar number um eine rufnummer zu portieren ',\n",
       " 'zum abschluss präsentiert user ziel seine agtech lösung danach geht s beim networking weiter url ',\n",
       " 'ziel kann ich in einen normalen m o l wechseln mein happy läuft jetzt jahr habe ich dann die möglichkeit ein handy zu subventionieren ',\n",
       " 'ziel sagt mal repeat mit der neuen eu regelung kann ich doch am wochenende in polen online gehen ohne extra zu bezahlen oder ',\n",
       " 'huhu ziel kann mir jemand von euch fragen zum wechsel auf einen hybrid anschluss beantworten ',\n",
       " 'neue sim karte ist im iphone morgen früh die neue pin eingeben und hoffen dass alles wettbewerber gelaufen ist bye bye hashtag congstar hi hashtag ziel ',\n",
       " 'ziel danke geht seit heute nachmittag wieder war wohl ne großstörung ',\n",
       " 'ziel es geht uns datum ein wlan zuhause dann zu haben ',\n",
       " 'ziel guten tag ich würde gerne herausfinden was für einen upload ich bei mir zu hause auf die kommazahl genau habe wie geht das ',\n",
       " 'ziel btw wenn ein techniker nötig ist sollte man das sofort wissen und nicht erst bei der nachfrage wieso es nicht geht ',\n",
       " 'wielange braucht ziel um rufnummern in einen laufenden vertrag zu portieren wettbewerber lässt mich seit ohne festnetz repeat ',\n",
       " 'wettbewerber laufen von euch momentan leute in schöningen herum und versuchen einem von ziel zu wettbewerber wechseln zu wechseln herum ',\n",
       " 'ich bekomme wieder nervende anrufe von der number number number bei denen niemand am anderen ende ist und sofort aufgelegt wird ziel ',\n",
       " 'user ziel wäre dann mit number € number minuten sms und number gb dann schon recht gut auf ziel zu ziel eh kostenlos geht eigentlich ',\n",
       " 'hashtag ziel de ist nicht in der lage einen auslandstarif für spanien zu schalten number stunden brauchen die zum schalten über sms geht auch ned ',\n",
       " 'gehe morgen zum ziel laden und frage mal da ich das wochenende kein internet wettbewerber bzw die trotzdem bezahlt hab ob da ein iphone x drin ist ',\n",
       " 'rt user ziel neuen router erhalten zugangspin geht nicht angerufen können aus vertrag nicht raus funktionieren tut nix super… ',\n",
       " 'ziel also ob es dich schon gab als die deutsche post hier das festnetzkabel verlegt hat… und mein mobiler wechsel zu euch… lang ists her… ',\n",
       " 'ziel behaupten ich müsse was unterschreiben womit ich unwissentlich zu euch wechsle um weiterhin internet zu haben → unter aller sau ',\n",
       " 'rt user ziel nein lohnt sich nicht prepaid tarif bei ihnen reicht mir amp bei meinem nutzungsverhalten aus ',\n",
       " 'ziel wenns nach ist geh ich ja auch hin ',\n",
       " 'user ziel wettbewerber grund zum wechsel repeat ',\n",
       " 'ziel ab und anmelden scheint geholfen zu haben danke ',\n",
       " 'warten auf godot inszeniert in einem rechenzentrum die beiden admins warten auf den ziel ziel schreibt am ende repeat ',\n",
       " 'gleich geht es los nach user ziel hashtag yitt url ',\n",
       " 'ziel hi die leds gehen der reihe nach an und kurz danach wieder aus tv funktioniert deshalb denke ich nicht das es am verteiler liegt ',\n",
       " 'user ziel wie schon tausend mal gesagt kann ich nicht wechseln hier gibts es keinen anderen anbieter mit einer number k leitung ',\n",
       " 'ich dachte ja schon ziel wäre schwach mit aber wettbewerber toppt alles wird zeit endlich zu wettbewerber zu wechseln repeat url ',\n",
       " 'bei hashtag ziel gibt es jetzt datenvolumen wettbewerber mit den neuen tarifen hebt sich der provider von der konkurrenz ab hashtag ziel url ',\n",
       " 'ziel ich möchte noch zum number gb vertrag wechseln aber es liegt eine störung vor heute ist letzter tag bitte macht das dennoch möglich smile ',\n",
       " 'ziel unser router geht seit tagen nicht aber das problem ist im nachbarort auch ',\n",
       " 'ziel nein das ist die rückrufnummer des dienstgeräts sorry für das missverständnis nummer zum vertrag um den es geht kommt jetzt per dm ',\n",
       " 'user nee danke haben hd wettbewerber anschluss für fernsehen number mbit von ziel das ist genug repeat und wir sind auch viel unterwegs nee danke ',\n",
       " 'ziel noch ein ps die hotline kann nicht zurückrufen weil telefon auch nicht geht repeat schaade na mal sehen es gibt ja noch smartphones smile ',\n",
       " 'ziel okay der gag ging wohl nach hinten los mea culpa es geht um mich hust nutze die kundennummer und habe das passwort zurückgesetzt ',\n",
       " 'ziel user also ich könnte jetzt zu streamon wechseln und müsste mir dann premium extra holen und hätte es dann wieder gleich der alten option ',\n",
       " 'ziel gestern im laden die rechnung bezahlt und heute eine sms mit der nachricht \\x08itte bezahlen sie ihre rechnung damit das internet wieder geht ',\n",
       " 'user ziel wie sieht es denn jetzt aus bei euch ziel könnt ihr damit was anfangen nicht das am ende noch streamon schuld an der misere ist ',\n",
       " 'user ich gehe morgen in den ziel shop vor ort möchte das jetzt nicht im internet totquatschen darum hat sich ziel zu kümmern ',\n",
       " 'ziel ich gehe mit wlan ins netz haben schon einen repeater geholt der bringt leider auch sehr wenig meine mutter ist kurz davor lan zu holen ',\n",
       " 'user ziel ziel das sind doch eh drittfirmen die auf provisionsbasis arbeiten und nur den anschein erwecken zur ziel zu gehören ',\n",
       " 'ziel ich habe schon mal gekündigt router seit monate zurück geschickt und ich bekomme noch rechnungen chat telefon geht nicht ',\n",
       " 'user ziel number euro mehr zahlen bei halber leistung ist etwas unrealistisch da lohnt sich der wechselaufwand halt eventuell später zurück eventuell ',\n",
       " 'ziel ja genau die die neue ist laut ansage nicht vergeben die alte geht noch aber darauf verlassen kann ich mich ja nicht ',\n",
       " 'user ziel wechsel zu wettbewerber da war mein längstes minuten ',\n",
       " 'repeat mit einer mitarbeiterin der ziel hotline geklärt wettbewerber einfach ne frechheit würde am liebsten den anbieter wechseln ',\n",
       " 'wenn das so weiter geht kommt heute kein stream sadface habt ihr zufällig kleine probleme ziel smile url ',\n",
       " 'so heute war nochmal ein ziel techniker da und hat das problem auf das kabelmodem eingegrenzt und ein neues eingebaut jetzt scheint internet wieder gut zu gehen ich beobachte das mal ein paar tage bevor ich entwarnung gebe aber sieht ganz gut a… url ',\n",
       " 'ziel wie kann es sein das wir hier s empfangen aber am ende nur number kb s gesendet werden zufälliger weise immer mitte des monats ',\n",
       " 'ziel habe weitere tipps bei störungen niemals die hotline wählen geht niemand ran und nach number min werdet ihr eh getrennt niemanden erzählen dass ihr bei ziel seid purer image verlust und der beste tipp auflegen und nie zurückrufen wenn eine number nummer bei euch klingelt ',\n",
       " 'hey ziel wann immer ich bestimmte deutsche nachrichtenseiten per handy aufrufen will taucht wettbewerber euer start werbeportal auf welches ich nicht verlassen kann was ist da los hashtag netzneutralität ',\n",
       " 'ziel was ist eig bei euch los seit monaten kaum bis schlechtes mobil internet und anrufen brechen mitten drinnen ab repeat da weiß man echt wo für man number € im monat bezahlt repeat kanns kaum erwarten zu wechseln hashtag kündigung hashtag vorfreude hashtag worstmobilfunkanbieter ',\n",
       " 'ey ziel hackt es bei euch ein kunden berater hat meinem vater ein neues tablet aufgeschwatzt amp gesagt er kümmert sich upgrade alter vertrag jetzt läuft der alte vertrag zusätzlich zu dem neuen weiter und eure boys in der hotline sind nicht zuständig geht s noch ',\n",
       " 'wettbewerber rufnummernportierung bei gestern bestelltem neuvertrag ziel zum number gekündigt bestätigung der portierung per mail und sms von beiden erhalten erst am number number repeat gerade diese tage im jahr wären wichtig kann man das nicht etwas beschleunigen sadface ',\n",
       " 'na mal gucken wie es am ende des monat aussehen wird ziel wettbewerber url ',\n",
       " 'ziel der liebe horst bot scheint die nachrichten zu blockieren kanns aber nicht beenden weil ich den chat damals gelöscht habe ',\n",
       " 'user vor allem weil dieser drecksverein absolut nichts hinbekommt number k leitung geschwindigkeit kommt zwar oft am die number k ran wlan reicht aber nur und ping liegt bei number selbst ne number k leitung von ziel wettbewerber bei mir nen ping nächstes jahr glasfaser bei number k ',\n",
       " 'rt user „ zum lernkanon der zukunft gehört beides algorithmen und aristoteles “ hannes ametsreiter ziel hashtag ametsr… ',\n",
       " 'user user ziel ziel weil es gedrosselt wird heißt ja nicht dass es ruckelt das hat damit nichts zu tun über adaptive bitrate coding ffährt der videostreamer die bildqualität runter so dass es auch mit mieser geht ',\n",
       " 'user wettbewerber ziel nächstes jahr hab kein bock während ich urlaub hab kein internet zu haben weil wir den anbieter wechseln ',\n",
       " 'ziel ich interessiere mich für eine prepaid karte mit der ich nur anrufe entgegennehmen möchte und ich diese im endeffekt nie auf laden will da ich schon einen vertrag bei euch habe geht so was oder verfällt die karte nach einer zeit ein weiterer tweet folgt ',\n",
       " 'ziel warum ruft euer herr f jebram auch heute nicht zurück wie versprochen geht man so mit kunden um die schwerkrank sind seit über drei wochen den lebensnotwendigen hausnotruf nicht nutzen können schämt euch ',\n",
       " 'ziel hey gibt es aktuell probleme von provider seite mich kann nämlich niemand mehr anrufen anruf wird direkt zur mailbox geleitet habe google pixel im magenta l tarif ich kann andere anrufen anrufe bei mir gehen aber nicht mehr ein mailbox schickt auch keine sms ',\n",
       " 'ich dachte ja es gehe sicher sehr einfach sich eine ziel callya karte zu holen aber nix da es fängt ja schon bei der registrierung an meine mail adresse sei wegen eines pluszeichens ungültig kennt man da eigentlich rfc number repeat ',\n",
       " 'user wettbewerber wettbewerber hi ziel ich hab gehört ihr möchtet jetzt nachziehen ',\n",
       " 'ziel habe seit ca stunde probleme mit dem dsl internet läuft sehr langsam und geht zum teil gar nicht number langen ',\n",
       " 'hashtag starwars hashtag dieletztenjedi könnte für viele zuschauer der erste star wars film werden warum das erfahrt ihr in meinem hashtag review hier gehts zum review url hashtag thelastjedi hashtag featured ziel hashtag film hashtag autorenleben ',\n",
       " 'ziel könnt ihr bitte mal prüfen ob in meinem bereich ne störung im kabel vorliegt im ganzen haus berichten nachbar ebenfalls von verpixelungen beim fernsehen bzw von totalausfällen bei tv und internet das ganze soll so seit number uhr gehen ',\n",
       " 'ziel ist es möglich zeitnah von einem alten isdn anschl zu magenta hybrid zu wechseln auch wenn der alte tarif teurer ist der kollege am telefon stellte es in möglichkeit war aber nicht number sicher schöne feiertage und dankesehr ',\n",
       " 'user ziel wettbewerber wettbewerber ist auch nicht viel besser vielleicht sollte ich auch zur ziel wechseln repeat nehmen die überhaupt unity kunden und können mir in hessen gutes internet anbieten repeat ziel macht mir mal ein angebot ',\n",
       " 'user wettbewerber ziel nach number min ging wer dran und mir wurde sogar geholfen ',\n",
       " 'user wettbewerber ziel wechsel dieses jahr auch zur wettbewerber ',\n",
       " 'user ruf da an beschwer dich haben wir schon oft genug gemacht bis die als entschädigung für zwei jahre lang für den selben preis unsere leistung hochgeballert dank ziel habe ich schon seit knapp einer woche kein internet ',\n",
       " 'es ist mega schade das ein user seinen number zuschauer stream vorzeitig und des todes salzig beenden muss das alles nur weil ziel es nicht schafft ihm die leitung fehlerfrei zu stellen die ihm zusteht danke user das du trotzdem immer alles gibst ',\n",
       " 'der spaß geht weiter die ziel freut sich per mail über den auftrag zum festnetz anschluss wir haben keinen anschluss beauftragt sondern nur dass die leitung funktioniert … ',\n",
       " 'ziel …bestätigen da war ihre geduld scheinbar schon am ende amp sie „ belehrte “ mich wie ich mich für ein telefonat vorbereiten zu habe ich regle das alles stllv für meinen opa weil er das selbst nicht mehr kann deswegen blaffte sie mich an da ich mich ja nicht wie jahrgang… ',\n",
       " 'seit wochen liegt das glasfaserkabel vor unserem neubauhaus die ziel ziel kommt nicht weiter und kann uns auf das schnellstartmodem auch nicht mehr draufbuchen dann gehen wir doch lieber zu user ',\n",
       " 'mein weihnachtswunder number der reibungslose wechsel von ziel zu wettbewerber beide unternehmen redeten im sinne der kundenzufriedenheit miteinander das habe ich das erste mal in number jahren erlebt danke ',\n",
       " 'angebot zur vertragsverlängerung ziel number euro mehr zahlen number weniger datenvolumen bekommen ein argument kunden unter number verbrauchen doch viel mehr als sie erster vorsatz für hashtag number tschüss ziel was geht bei euch so wettbewerber wettbewerber wettbewerber ',\n",
       " 'ziel kann ich das neue gerät von euch eigentlich mit der alten sim von der konkurrenz nutzen bis die nummer portiert ist ',\n",
       " 'ziel also ich finde es unmöglich bei ihnen eine priadkarte zu aktivieren mit foto etc noch komplizierter gehts wohl nicht ',\n",
       " 'ziel leider geht der link zu user in der mega deal app nicht bekomme immer wieder eine fehlermeldung mit magento interface ',\n",
       " 'ziel aber hey dass ziel es mit der ehrlichkeit nicht so genau nimmt weiß ich ja jetzt deshalb mein wechsel zu wettbewerber hashtag meinemeinung ',\n",
       " 'user ziel nicht mein tipp geh zu user oder user dort bekommst du in tatenlosem zustand und zum schnäppchenpreis die hashtag weihnachtsmänner i call it hashtag leftover christmas number hashtag ziel url ',\n",
       " 'gibt es eine aufstellung von was geht nicht zum thema user uhd receiver über sat vs user mr number cc ziel user ',\n",
       " 'ziel erneut eine zweite mahnung obwohl ich number € guthaben bzgl hausanschluss habe hotline number minuten gewartet nach meiner erklärung wurde einfach aufgelegt meine number € vergünstigung habe ich auch noch nicht wenn nicht gleich jemand bei mir anruft gehts zum anwalt ',\n",
       " 'ziel nein ich warte immer noch repeat number minuten mittlerweile repeat geht auch leider nicht online zu lösen ',\n",
       " 'ziel hi ich hab eine e mail erhalten mit der aufforderung mein prepaid konto bis number number number aufzuladen da sonst mein vertragsverhältnis beendet wird die letzte aufladung war vor monaten warum muss ich jetzt schon aufladen ',\n",
       " 'so dann mache ich jetzt mal schnell noch den dsl wechsel von ziel zu wettbewerber fertig und dann können wir bald ins neue jahr gehen smile ',\n",
       " 'ziel so langsam habe ich die schnauze voll schon wieder kein bild die aufnahme schwarzes bild kann ich in die tonne drücken router schon neu gestartet aber nix nochmal verlängere ich meinen vertrag nicht mehr ',\n",
       " 'rt user es wird aktuell bei der buchbestellung falsch geroutet die landingpage gehört eigentlich zum gewinnspiel ziel hashtag me… ',\n",
       " 'ziel ist bei mir eine störung bekannt heute geht ganichts was mitn internet zu tun hat router ein aus hab ich schon alles gemacht ',\n",
       " 'user user user user ziel user dann geht einfach zu kabel haltsmauldulebstnurhintermmondland ',\n",
       " 'user ziel ziel würde zu wettbewerber wechseln bin dort lange kunde und wettbewerber noch nie ein problem nie netzprobleme und der support ist nett und hilfreich ',\n",
       " 'geh zum ziel um mir einen neuen vertrag zu machen die verkäuferin sagt sie kündigt meinen alten fristgerecht darf jetzt noch ein teil ein jahr den alten mitbezahlen da er nicht fristgerecht gekündigt wurde ziel hashtag ziel hashtag allesklar hashtag kundenservice ',\n",
       " 'weil man sich ja auch mal äußern sollte wenn was gut gelaufen ist ziel hat mir super geholfen vielen dank fürs recherchieren und nachhaken ',\n",
       " 'ziel guten morgen angeblich wurde das problem gestern behoben allerdings ist das internet weiterhin tot dsl led blinkt weiterhin nur so vor sich hin am setup würde nichts geändert speedport logbuch sagt die ganze zeit nur folgendes repeat bin mit meinem latein am ende url ',\n",
       " 'hallo ziel aktuell ist mein dsl in leipzig unfassbar langsam das geht inzwischen seit ca so download raten unter aller sau störungsassistent online verweist mich auf die hotline dort zurzeit wartezeit von mind number min repeat ihr schlaft doch oder ',\n",
       " 'zum mal heute nen disconnect probs gehen raus an die dümmsten wichser ziel über die sich jeder beschwert ',\n",
       " 'ziel ich hab halt jetzt number und drunter nehm ich nichts mehr schon gar nicht wenn ich dafür am ende sogar mehr zahle ',\n",
       " 'user ich könnte noch ins büro gehen aber das würde dir mit sicherheit wieder zu spät werden aber ab dem number number bin ich ziel dann los repeat ',\n",
       " 'ziel naja was heißt „ ungeduld “ ich benötige das internet für arbeit hausbau usw repeat auf das mobile internet kann ich auch nicht umsteigen da der empfang nicht mal fürs telefonieren reicht hoffe mir wird die nicht erbrachte leistung auch nicht in rechnung gestellt ',\n",
       " 'ziel und wann könnt ihr mir richtige number oder number mbit per dsl anbieten sadface will nicht nach zwei jahren schon wieder zu wettbewerber wechseln da kommen mittlerweile number mbit rein repeat wie gesagt eure dsl ausbaukarte sagt ja das number mbit möglich sind ohne den hybrid quatsch repeat ',\n",
       " 'liebes internet falls du es dir doch anders überlegt hast uns nicht hasst und nach tagen endlich zurück kommen willst dann empfangen wir dich in großer freude ich hoffe dir geht es gut deine dich sehr vermissende nutzerin ziel ',\n",
       " 'ziel okay woran kann das liegen ich möchte mich darauf verlassen können number anrufen zu können zu jederzeit ',\n",
       " 'wettbewerber also liebes wettbewerber sadface ich finde es blöd das eure voip sip server nicht mit ip geräte wie zum beispiel be ip plus klar kommen ob im privat tarif oder im geschafts tarif außerdem sollte diese ja zur ip zeit klappen bei anderen wie ziel sipgate geht es sadface sadface ',\n",
       " 'vielleicht hab ich mir auch nur ein dreimal so günstigen vertrag mit number x soviel datenvolumen bei der konkurrenz bestellt ja number x soviel ist nicht übertrieben sondern die korrekte rechnung ziel ziel url ',\n",
       " 'ziel sorry missverständnis repeat habe ursprünglich nicht klar formuliert es geht um unsere internetleitung zu hause ',\n",
       " 'hat jemand von euch erfahrungen mit ziel kabel falls ja welche gibt s probleme mit einem eigenen modem fritzbox number cable überlege zu wechseln repeat gerne auch retweeten ',\n",
       " 'habir vor jahr oder so diesen ziel prepaid tarif geholt und da erst number mb im monat bekommen jetzt ohne mehr zu zahlen geil ',\n",
       " 'ziel das klingt echt nach einer merkwürdigen antwort da das produkt ja von ihnen selbst stammt sie meinten wohl „ schon mal überlegt den anbieter zu wechseln “ naja bemühen sie sich nicht weiter ich werde wohl den echten support kontaktieren müssen ',\n",
       " 'oh wie schön gerade den user auf der agenda beim takeoff vom user am freitag bei der ziel in berlin entdeckt freue mich auf das wiedersehen url user ',\n",
       " 'user kommt mir bekannt vor wettbewerber wir gestern auch repeat bei ziel angerufen und die erzählen das es keine störung gibt und ständig hing der stream zu kotzen grüße gehen raus an ziel ✌ ',\n",
       " 'ziel oh ja repeat hier immer noch kein netz telefon recht und schlecht fernsehen ist gott sei dank noch da mein mobiles datenvolumen geht gerade den bach runter es ist zum kinderkriegen ',\n",
       " 'ziel macht es sinn den aktuellen neukundenbonus zu löschen wenn man bereit ist in einen höheren tarif zu wechseln ziel bei mir von magenta s in magenta l und zack number number wettbewerber number number ',\n",
       " 'erst klappte der ziel anschluss nicht in hashtag hannover jetzt geht auch nix in hashtag münchen nach über einem monat nach der bestellung number number waren die techniker da „ leitung kaputt da müssen experten ran “ hashtag hilfe ziel ',\n",
       " 'jens spahn wettbewerber anscheinend doch recht berlin gehört nicht mehr zum deutschsprachigen raum laut ziel url ',\n",
       " 'ziel ich würde direkt zwei verträge abschließen für je number number ohne anschlusspreis und portierungsgebühr zahlen zu müssen da lässt sich doch bestimmt was machen ',\n",
       " 'ziel das macht das ganze leider nicht mehr so wettbewerber immerhin müsste ich noch portierungsgebühr beim alten anbieter zahlen und zusätzlich euren anschlusspreis ',\n",
       " 'ziel ich übersetze hilfe kunde droht mit auftrag das ist doch lächerlich dass ich zu den business tarifen wechseln soll vor allem wenn es dann nochmal arbeit kostet da wieder in den privatbereich zu wechseln das liegt doch alles bestimmt an irgend einer it eigenheit ',\n",
       " 'user same here vorher ziel gerade tag und überlege zurück zu gehen meine frau hat für weniger monatlich sogar noch nen aktuelles iphone dazu bekommen ',\n",
       " 'user ziel wechsel doch zur wettbewerber das nette wettbewerber team hilft gern ',\n",
       " 'ziel da das angebot zum wechsel nur bis januar war und nun doch kein ausbau passierte geht das wechselangebot bestimmt erst wenn das produkt auch erhältlich ist oder ',\n",
       " 'ziel hi nach einem wechsel von callya special nach flex wird mein kundenkennwort in der flex app nicht akzepiert account schon zum mal gesperrt hotline amp forums support können nicht helfen habt ihr ne idee was ich noch versuchen könnte ',\n",
       " 'ziel schade bei mir geht beides internet tv nicht repeat auch nicht nach neustart ich wollte heute die abfahrt schauen das wird jetzt wohl leider nichts repeat ',\n",
       " 'user ziel gibt es den nicht in der mediathek am ende dann wenigsten ohne werbung ',\n",
       " 'ziel zum glück geht das fernsehn nicht bin sowieso gerade auf dem teamspeak am chillen mit user hashtag telecrew macht viel mehr spaß werbungen der hashtag ziel zu hören als sich im tv den andern sachen aus zu setzen smile ',\n",
       " 'ziel in number geht nicht mal mehr live tv bei entertaintv wie gut das ich noch eine zweite zuführung via dvb c habe sonst würde das heute ein trauriger abend werden ',\n",
       " 'ziel hallo könnt ihr mir nachträglich für eine rufnummern portierung nochmal eine kündigungsbestätigung ausstellen oder per mail zukommen lassen ',\n",
       " 'hashtag freiheit ist wenn du endlich das ende deiner vertragslaufzeit erreichst und zu einem guten anbieter wechselst hashtag ziel hashtag cannotdo hashtag ziel ',\n",
       " 'ziel nein danke ich hab es jetzt schon number x versucht antscheinend kann mir nur der kundenservice helfen der erst am number kommt obwohl bei mir zuhause schon woche lange kein internet und telefon geht ',\n",
       " 'lange genug genervt und mein recht durchgesetzt sonderkündigungsrecht ciao und auf nimmer wiedersehen ziel und hello wettbewerber url ',\n",
       " 'user das ist jetzt bald kein stress mehr… wechsel zu ziel ist so gut wie perfekt ab dann gehts bergauf ',\n",
       " 'user ziel beste entscheidung geschäftlich bin ich mit dem handyvertrag schon bei der ziel und das festnetz wechsel ich auch bald zu denen sonst drehe ich noch durch repeat url ',\n",
       " 'ziel user ey bitte antwortet endlich mal ruft mich bitte unter der name bei der privat nachricht an mein internet geht nicjt ',\n",
       " 'ziel tolle kundenberater habt ihr da hat man die kundennummer nicht parat und die blöde kuh am anderen ende legt einfach auf frechheit ',\n",
       " 'user user wegen service von ziel zu wettbewerber das war zwar am anfang auch hakelig aber man erreicht jmd am telefon und sie kümmern sich jetzt hab ich fürs gleiche geld soviel download auf vorrat kündigen heute zurück geht ja jederzeit ',\n",
       " 'user da sieht man wieder wie wichtig es ist die geräte jährlich zu eichen ist offensichtlich bei ziel nicht gemacht worden denn die leitungen müssen enorm geschrumpft sein wenn nicht einmal number mib durch gehen☹so mbits sind bekanntlich ziemlich grosse kügelchen repeat ',\n",
       " 'umzug ist so gut wie fertig leider muss ich auf ziel warten das ich den alten vertrag vom vormieter übernehmen kann dauert noch so ca woche danach heißt es die leitung auf ein number k aufstocken repeat aktuell hab ich hier number k repeat damit ist streamen unmöglich repeat ',\n",
       " 'user user user user ziel ziel entschuldige das gehört neunmal zu einer guten erziehung oder haben deine eltern heute noch etwas mit deinem benehmen zu tun zumal das von sebastian offensichtlich ironisch war ',\n",
       " 'ziel dass man dafür extra aufladen muss steht erst ganz am ende in der app mein guthaben reicht mir z z leider noch aus ',\n",
       " 'ziel hab gehört das man die number gb nur noch bekommt wenn man bestandskunden ist bekommt man es wenn man bei kabeldeutschland ziel zuhause als anbieter hat wollte das bald mit meiner mutter kaufen die prepaid karte mit number gb geschenkt ',\n",
       " 'ziel warte number minuten an der hotline geht ein ganz unfreundlicher mitarbeiter ran mit einem unfreundlichen ton und sagt das um die uhrzeit fragen zum vertrag nicht möglich sind online steht davon nichts repeat kundenservice festnetz habe ich angerufen das kann nicht sein ',\n",
       " 'user user ziel nuja aber andernfalls müsste man doch deeppackageinspection machen um zuwissen wohin welches paket geht repeat und das geht rechtlich nicht oder irre ich mich da ',\n",
       " 'ziel user user user user user user user ziel user und wer ist der partner zu dem die agentur gehört ',\n",
       " 'user user noch nie von tryhard plus gehört die zeit ohne internet zu hause macht sich bemerkbar grüße gehen raus an ziel für die ewige bearbeitungs zeit ',\n",
       " 'ziel ist es eig normal dass ihr erst kabel verlegt wenn es lokale konkurrenz gibt am ende liegen dann zwei glasfaserkabel da und das doppelte an geld wurde investiert danke dass ihr dem netzausbau damit schadet repeat url ',\n",
       " 'user oh wettbewerber überlegt meinen netzanbieter zu ziel zu wechseln hast du eher keine guten erfahrungen ',\n",
       " 'ziel sorry habe d frage a d weiter geg d das telefon nutzt lag dran sorry habe noch ein weiteres anliegen tarif ist ziel free wenn d drossel aktiv wird steht ja nur noch zur verfügung darüber geht aber nur sehr unzuverlässig traffic number ',\n",
       " 'ziel gibt es informationen zu störungen im bereich number oberhohenried sylbach internet geht mehrmals am tag in einigen bereichen des dorfes nicht ',\n",
       " 'user wir wohnen in einem kleinen dorf in oberbayern ich habe hier eine vdsl number leitung der t kom wollte letztens nach ziel wechseln aber für meinen bereich bieten die nur einen gigacube an kenne ich von dieser technologie zu wenig und stehe ich mir preislich nicht besser ',\n",
       " 'ziel danke werde aber erst wechseln wenn mein junge leute wettbewerber ausläuft weil ihr mir den ja nicht geben wollt bzw weiter laufen lassen wollt wenn ich von entertain auf entertaintv wechsel sadface ',\n",
       " 'in hashtag ziel shops wollte man mich jetzt noch verarschen und teurere verträge als notwendig andrehen ich hab echt die schnauze voll ',\n",
       " 'ziel nichts was soll man tun warten das die vertragslaufzeit zu ende geht ',\n",
       " 'tag number guten morgen ziel heute ist der number tag ohne erreichbarkeit aus dem hashtag ziel mobilnetz hashtag fail hashtag reminder hashtag täglichgrüßtdasmurmeltier user hashtag everydaygehtnix hashtag störungserinnerung hashtag ziel hashtag portierung hashtag bnetza hashtag serviceposting ',\n",
       " 'ziel wie erreiche ich nun wieder halbwegs normale geschwindigkeit z b number mb s bei number mb dsl vertrag will heute von zu hause übers internet arbeiten wie geht das bitte ',\n",
       " 'ziel hab bis jetzt nix mehr von euch gehört welche zusatzinfos zum anschluss würden euch per dm helfen ',\n",
       " 'user user ziel eine prio beschwerde ist in ziel s fall wenn kunde bspw zwecks kommunikation einen anwalt beauftragen würde somit wird seitens ziel das complaint management engagiert um der sache so schnell es geht auf den grund zu gehen und dann würde auch schnell was passieren nur repeat ',\n",
       " 'user ziel ja meine ma und ich werden auch den anbieter wechseln ich bekomme nur aggressionen und will immer den router aus dem fenster schmeißen ',\n",
       " 'tag number ziel ein neuer tag ohne erreichbarkeit aus dem hashtag ziel mobilnetz immerhin heißt es „ die techniker arbeiten dran “ genauso wie vor number tagen hashtag täglichgrüßtdasmurmeltier user hashtag everydaygehtnix hashtag störungserinnerung hashtag ziel hashtag portierung hashtag bnetza hashtag serviceposting hashtag ',\n",
       " 'user user ziel eigentlich muss man wirklich eine ausländische karte haben und stets das beste netz nutzen dann die alte nummer bei bedarf zu satellite von sipgate umziehen und alles via voip machen repeat vielleicht bekommt man mit wechselnden karten dann auch die fehlende „ heimreise “ hin repeat ',\n",
       " 'user ziel ja das sind echt strauchdiebe das netz von denen ist leider auch ein grauß repeat werde bei nächster gelegenheit auch wechseln repeat nur wohin ',\n",
       " 'ziel ziel habt ihr ne ahnung warum bei uns kabel augsburg kein telefon amp internet mehr geht mit dem ausfall in berlin wird das ja nicht zusammenhängen repeat ',\n",
       " 'ziel user ich kann jedem mit bestem gewissen dazu raten zur ziel zu wechseln da gibts einfach nix negatives ',\n",
       " 'user einer dieser tage repeat ja da ist wohl ein kabel beschädigt reperatur dauert an ist an einem sonntag natürlich richtig gut va wenn berlin nur ein kabel zur verfügung zu haben scheint ziel geht bei mir am handy aber zumindest ',\n",
       " 'boah wie blöd ist das denn jetzt werd ich genötigt trotz hotspotflat das freewifi der ziel zu nutzen mit meinem vertragswifi kann ich nicht online gehen das müsst ihr besser hinbekommen in hashtag augsburg ',\n",
       " 'wenn man seinen ziel vertrag kündigen will geht das nicht auf der webseite direkt nur telefon brief oder fax und aus irgendeinem grund scheint die fax nummer für die kündigungen gerade überlastet zu sein wieso nur repeat ',\n",
       " 'ziel ja ident habe ich mit der anmeldung durchgeführt sim ist ja auch bereits hier ich denke ihr habt da echt ne lücke im prozess offenbar hat aber heute jemand bei vf nach weiteren mails an den support licht am fahrrad gehabt und mir das kundenkennwort zugemailt ',\n",
       " 'ziel naja man kann halt bis zum jahr number number gehen und ja konnte ich ',\n",
       " 'zu ziel store gehen fragen ob sie meine ziel sim karte in eine nano sim karte schneiden gebeten werden number € für eine neue nano sim card zu zahlen schneiden zum wettbewerber store gegenüber gehen und die karte problemlos geschnitten bekommen ',\n",
       " 'auf ziel kann man sich immer verlassen heute wieder für euch getestet vorzüglicher service und unterstützung hashtag hamburg hashtag ziel hashtag danke ',\n",
       " 'ziel könnt ihr bitte was zu meiner dm sagen mittlerweile geht auch das telefon nicht mehr repeat und telefonieren wäre mal ganz hilfreich repeat ',\n",
       " 'eigenes modem bekommt man nicht am laufen dass wenigstens dann eine funktionierendes wlan hätte jetzt geht gar nix da das kundenportal abgeschaltet ist man kann nur hoffen dass es keinen ausfall gibt ich hab jetzt fritzboxen hier ziel ',\n",
       " 'danke ziel für die wartungsarbeiten naja wenigstens konnte ich den stream noch beenden ',\n",
       " 'user ziel bin auch am überlegen zu wechseln ist vdsl denn egal welche uhrzeit immer die selbe leistung wettbewerber number kommen gerade nur number number an um diese uhrzeit url ',\n",
       " 'user ziel haben wir auch bei uns da es im neubau leider max gab repeat kommen so number number bei uns an number er tarif je nach last der stationen wohl und auch nach jahren nur paar tagen kleine probleme gehabt gingen aber wieder weg also eigtl ganz nett repeat smile ',\n",
       " 'ziel kurze frage gehört die nummer number number number zu euch die schaffen es mit bemerkenswerter sicherheit immer dann anzurufen wenn ich nicht telefonieren kann smile ',\n",
       " 'ziel und zwar sind wir gegen anfang oktober von wettbewerber zu ziel gewechselt und uns wurde gesagt dass die neu verlegte number k leitung gegen mitte november spätestens ende dezember aktiviert wird jedoch ist dies immernoch nicht geschehen und uns wurde gesagt gegen juni vorraussichtlich repeat ',\n",
       " 'ziel vorallem gehts mir darum dass ich eine leistung die ich nicht bestellt habe bezahlen muss wenn ich nicht widerspreche vorher wurde ich gefragt ob ich datenvolumen benötige jetzt wird es mir zugeschustert sollte ich die sms mal überlesen ',\n",
       " 'ziel um noch mehr infos zu geben – eingehende anrufe klingeln nicht am telefon obwohl der anrufton vom anrufenden telefon zu hören ist ausgehende anrufe gehen gar nicht durch ',\n",
       " 'hashtag hilfe versuche wechsel von ziel box number auf eine fritzbox fritzbox auf werkseinstellung zugangsdaten eingeben dsl verbindung wird angezeigt aber nicht auf der fritzbox fehlermeldung im browser von ziel ich kapier hier gerade nichts hashtag followerpower hashtag fritzbox url ',\n",
       " 'der monat geht zu ende genauso wie die gratis number gb von ziel hashtag ziel hashtag gigaboost url ',\n",
       " 'user ziel ziel ja da geht noch was aber momentan passiert wirklich viel wenn neue netze auch dereguliert würden hätten alle repeat unternehmen auch mehr anreiz zu bauen was macht denn wettbewerber zum beispiel beim ausbau ',\n",
       " 'ziel zurück halten bis der anschluss wieder geht ',\n",
       " 'user ziel hat irgendwie scheiße gebaut alle die ich kenne haben so extreme probleme das sie jetzt alle wechseln weil nach sollten die das ja mal behoben bekommen aber naja die sind strohdoof neutralface ',\n",
       " 'ziel habe über url einen festnetzanschluss zum handy vertrag gebucht u haken bei “ anschluss von anderen anbieter zur ziel wechseln ” gesetzt wurde aber nicht nach meinem alten anbieter und meiner mitzunehmenden rufnummer gefragt ist das normal ',\n",
       " 'seit dienstag ohne smartphone repeat weil ich den fehler beging meinen vertrag zu verlängern das hier geht in diesem zusammenhang mit besten grüßen an ziel url via user ',\n",
       " 'ziel ich würde hier gerne eine störung melden da ich nicht telefonisch zu besprechen hab router wurde number mal neu gestartet und wir haben alles versucht unser internet geht noch immer andauernd weg und es gibt nur mb downlaod und upload bei einer number k leitung ',\n",
       " 'wettbewerber da können wir uns mal drüber unterhalten smile derweil byebye ziel \\u200d♂️ url ',\n",
       " 'b user ziel hab heute schon den vertrag gekã¼ndigt ',\n",
       " 'b ich versuche gerade meine vertrã¤ge bei ziel zu kã¼ndigen selbst dafã¼r muss man noch einmal anrufen und landet in der warteschleife hashtag krank hashtag ziel ',\n",
       " 'b ziel bin reingekommen hab nachgesehen wann ich kã¼ndigen kann denn das hybrid ist eine katastrophe ',\n",
       " 'b ziel schei e also kann man doch dieses jahr kã¼ndigen ',\n",
       " 'b dritter totalausfall tv inet tel bei ziel in wo sagt mal ihr baut auch den hashtag ber oder asap zur wettbewerber ',\n",
       " 'b ziel wart wart wart ',\n",
       " 'b rt user so holprig wie mein festnetzwechsel zu wettbewerber bislang lã¤uft bereue ich schon fast nicht bei der ziel geblieben zu sâ\\x80¦ ',\n",
       " 'b rt user ziel netz ist noch immer nicht besser monate fã¼r ne stã¶rung ist ziemlich lang bald werd ich echt den anbieter wâ\\x80¦ ',\n",
       " 'b ziel seit ihr auf facebook eingeschlafen geht um eine kã¼ndigung vielleicht deshalb man mã¼sste nur die nummer freigeben ',\n",
       " 'b nach dem ziel chaos der letzten zwei wochen jetzt alles gecancelt und zu wettbewerber gewechselt â\\x9c\\x8c ',\n",
       " 'b free unlock code lg unlock code ziel australia lg lg g pad or get it free ',\n",
       " 'b hashtag ziel vertrag gekã¼ndigt o ',\n",
       " 'b ziel nun zur wettbewerber wird auch das datenvolumen in den callya wettbewerber um die gemeldeten number erhã¶ht danke ',\n",
       " 'b ziel seit jahren max mbit und jetzt erzã¤hlt uns mal einer von hybrid wenn wir kã¼ndigen wollen danke fã¼r nichts ',\n",
       " 'b wettbewerber von ziel ã¼ber wettbewerber bis zur wettbewerber jetzt bin ich wirklich mal erreichbar danke wettbewerber ',\n",
       " 'b user ziel habe gerade die kã¼ndigung abgeschickt ',\n",
       " 'b user ziel ah okay das ist natã¼rlich ã¤rgerlich solltest vielleicht auf business wechseln ',\n",
       " 'b user ziel bei mir ã¤hnlich ziel vertrag jetzt auf november gekã¼ndigt und es wird wohl einâ\\x80¦ url ',\n",
       " 'b ich hoffe ziel schafft es schnell den anschluss fã¼r meinem vater zu schalten ',\n",
       " 'b ziel sagt mal internet funktioniert in number berlin bis mai number schlecht wir wollen kã¼ndigen wechseln was tun sie ',\n",
       " 'b wir mã¶chten einen umzug benantragen aber kommen bei der hotline von ziel seit tagen nicht durch werde wohl kã¼ndigen ',\n",
       " 'b ziel richtig ich habe schlieã\\x9flich inzwischen einen neuen vertrag bei einem anderen anbieter ',\n",
       " 'b ziel die ich zum vertragsabschluss bestellt wettbewerber ',\n",
       " 'b ziel wieder kein internet ich versteh eure probleme nicht nie klappt was ohne probleme morgen kriegt ihr die kã¼ndigung ',\n",
       " 'b ziel leider nein laut ma ihrer hotline wurde meine kã¼ndigung storniert repeat allerdings nicht von mir eine plausible erklã¤rung dafã¼r kann mir niemand geben repeat ',\n",
       " 'b die telefonische erreichbarkeit von ziel ist so schlecht wie dessen netz aber die number minuten wartezeit zur kã¼ndigung halte ich noch durch ',\n",
       " 'b ziel am number number gabs ne einseitige bestã¤tigung zur kã¼ndigung per mail mehr nicht schickt ne rechnung dann schauen wir weiter oder halt nicht ',\n",
       " 'b user ziel wettbewerber auch nur probleme mit ziel haben gewechselt zu wettbewerber und sind seitdem mega zufrieden ',\n",
       " 'b an dieser stelle eine ganz dickes hurensohn an wettbewerber und ziel ',\n",
       " 'b ziel ja aber gottseidank nicht wie dsl vertrag bei anderen anbieter da lã¤uft das internet ',\n",
       " 'b ziel warum kann ich meinen festnetz entertain vertrag nicht im kundencenter kã¼ndigen ',\n",
       " 'b dortmund ziel stress free winner in under number mins ',\n",
       " 'b rt user mama will jetzt ihren ziel vertrag kã¼ndigen ich drã¼cke ihr die daumen und verschanze mich schonmal das wird blutig ',\n",
       " 'b ziel meine rufnummernportierung von ziel loop zu free sollte gestern passiert sein ich glaube aber das nichts passiert ist keine nachr usw ',\n",
       " 'b ziel ok danke fã¼r die infos dann werde ich meiner schwiegermutter empfehlen den vertrag zu kã¼ndigen ',\n",
       " 'b die hotspots der ziel sind in dermaã\\x9fen schlechtem zustand eigentlich fã\\x9cr den arsch dass man freiwillig zu wettbewerber flã¼chtet das ist natã¼rlich teuerer aber funzt immer fast ã¼berall und â\\x80\\x9esauschnellâ\\x80\\x9c ziel smile ',\n",
       " 'b shit jetzt muss ich anbieter wechseln ziel kommt mir net ins haus hashtag maxmobil hashtag telering url ',\n",
       " 'b user ziel ihr hurensã¶hne schnell zu wettbewerber hayde ',\n",
       " 'b seit meiner kã¼ndigung bei ziel hab ich immer wieder netzabbrã¼che ein schelm wer bã¶ses denkt repeat ',\n",
       " 'b rt user wer schlechtes internet haben will sollte zu wettbewerber gehen bin ich froh bald bei der ziel zu sein â\\x9d¤ï¸\\x8f sorâ\\x80¦ ',\n",
       " 'b user ziel wettbewerber kã¼ndigung zu wettbewerber ist raus legt ihr auch glasfaser bis zum haus ziel ',\n",
       " 'b ziel das habe ich versucht sadface komm da nicht raus konnte bevor das mit der schufa gemacht wurde schnell zu wettbewerber repeat ein groã\\x9fer fehler ',\n",
       " 'b user user ziel bin schon in einer bayrischen regionalbahn rauf aufs land zu wettbewerber aber diese loginseite bekam ich auch gar nicht mehr zu gesichtâ\\x80¦ ',\n",
       " 'b user ziel nach zweimaliger fristsetzung fristlose kã¼ndigung ',\n",
       " 'b ziel mein sohn hat nen neuen anschluss in bln lichtenberg leopold number techniker waren da um anschluss im haus freizuschalten hat super geklappt aber jetzt scheint an dem anschluss gem hotline ein technisches problem vorzu liegen repeat und nun repeat gleich wieder kã¼ndigen repeat ',\n",
       " 'b rt user wer schlechtes internet haben will sollte zu wettbewerber gehen bin ich froh bald bei der ziel zu sein â\\x9d¤ï¸\\x8f sorâ\\x80¦ ',\n",
       " 'b freunde der mobilen daten hat jemand mal von ziel zu wettbewerber gewechselt ist das lte bei denen spã¼rbar langsamer ja nein ',\n",
       " 'b ziel bitte arbeitet an eurem kundenservice und generellen service alle wochen funktioniert unser dsl anschluss nicht so wie er soll wochen ist alles gut danach wochen oder mehr nur noch number kb s im download dsl number denken ã¼ber kã¼ndigung nach repeat ',\n",
       " 'b user ziel danke den wettbewerber ich nicht gesehen ',\n",
       " 'b ziel einfach meine kã¼ndigung akzeptieren ',\n",
       " 'b user ziel es ist ja wahnsinnig nett dass ihr mich alle zu wettbewerber drã¤ngen wollt aber auf die idee bin ich auch schon gekommen gibts hier aber nicht ',\n",
       " 'b user apropo ziel repeat bin ja nach wettbewerber gewechselt repeat waren number jahre bei denen und die kã¼mmerten sich unm unser internet repeat kannst dich glã¼cklich schã¤tzen dass bei dir da jmd kommt smile ',\n",
       " 'b ziel ich kenne das thema voip umstellung aber die meisten kunden dã¼rften so ein vorgehen nicht verstehen daã\\x9f man ihnen nach der eigenen kã¼ndigung noch eine kã¼ndigung hinterherschickt weniger logisch eher unglã¼cklich in der kommunikation ',\n",
       " 'es geht los mit ziel zu hashtag was bringt das neue schnelle mobilfunknetz dem hashtag mobile hashtag business user hashtag url ',\n",
       " 'user ziel zeit den provider zu wechseln ',\n",
       " 'ziel kann ich bei einer abo verlängerung mit vergünst auch von infinity zu one wechseln oder muss ich da neuer vertrag wählen ',\n",
       " 'user user ziel wer weiss fas schon die wechseln auch allpott die namen von den abos ich hab jedesmal lämpen im laden weil da wieder alles neu und anders ist und das personal so tut als wär ich ez der dümmste all ihrer kunden dort ',\n",
       " 'ziel vielleicht gehen wir ja auch zu wettbewerber oder zu user smile ',\n",
       " 'wettbewerber kleines follow up sollte jemand anders dasselbe problem haben empfehlt ihm doch mal das roaming netz zu wechseln und einmal auf zurück zu schalten mit etwas probieren hat es geklappt beispiel ziel plus wettbewerber plus lte in der schweiz geht nicht überall ',\n",
       " 'ziel hallo ich würde gerne meine ziel nummer zu einem anderen anbieter wechseln wie muss ich bei euch vorgehen um meine nummer zu einem anderen anbieter zu portieren ',\n",
       " 'user user user user user user user user user user ziel user wenn diese menschen die gebühr nicht aufbringen können so erhalten sie sozialhilfe ',\n",
       " 'user user user user user user user user user user ziel user wenn sie gescheit überlegen würden dann wüssten sie als billagfan dass es sich um eine zwangs hashtag haushaltgebühr handelt ja obdachlose zahlen hashtag nobillag dies allerdings weil sie keinen haushalt führen hat also nichts mit den politischen parteien zu tun ',\n",
       " 'user ziel man geht ja auch nicht zu ziel ',\n",
       " 'user user user user user user user user user ziel user es gibt auch leute mit wenig einkommen die gerne öffentlichen rundfunk geniessen ihr nehmt auch denen alles weg hashtag facepalm hashtag epicfail hashtag neinzunobillag ',\n",
       " 'user user user user user user user user ziel user toll geben sie es zu wegen kopfsteuer wobei richtig ist hashtag zwangsgebühr ',\n",
       " 'ziel kann man bei hashtag ziel prepaid unlimited eine alte nummer von einem vertrag bei wettbewerber portieren url ',\n",
       " 'user user user user user user user ziel stimmt habe ich korrigiert aber ehrlichkeit ebenfalls von euch ',\n",
       " 'user user user user user user user user ziel bist du telefonspezialist oder informatiker wir haben die und die sagen klar nein mehr leistung zu gleichen preisen mit langen laufzeiten ',\n",
       " 'user user user user user user user ziel number ist immer noch zu vielund wie der name des geldeintreibers heisst ist sekundär ',\n",
       " 'user user user user user user user user ziel repeat nein es ist günstiger geworden aber die günstigsten angebote finden viele nicht ',\n",
       " 'user user user user user user user ziel die bisher mehrfach erwähnten kostenaufstellung beziehen sich auf fernseher iptv bei oder mehr fernseher könnten mehrkosten dazu kommen digi card bei ziel oder zusatzgeräte bei wettbewerber da grundangebot mager ist zusatzkosten sind happig ',\n",
       " 'user user user user user user user ziel doch vor allem der stromverbrauch geht vielfach vergessen es wird immer schneller und breiter mit den informationen aber billiger definitiv nicht wichtig ist vor allem dass alles vom gleichen anbieter genommen wird prepay geht für hashtag ausgesteuerte nicht kostenfalle ',\n",
       " 'ziel wechselt von wettbewerber zu wettbewerber die mobile angebote sollen ab number auf dem wettbewerber netz laufen ziel wettbewerber wettbewerber url url ',\n",
       " 'internet geht seit donnerstag abend nicht mehr hotline ist seit minute stumm also keine musik mehr und nach number min immer noch keine person an der stripe bitte um support und baldige lösung danke ziel ',\n",
       " 'die hashtag crowddonation platform hashtag letshelp von der hashtag ziel ist am ende leider war die platform kein erfolg spenden werden nach wie vor klassisch abgewickelt und nicht digital heisst es url ',\n",
       " 'user user ziel sie wird schon genug gekriegt haben dafür dass sie uns täglich nerven darf ',\n",
       " 'rt user warum gibt es sf info im kleinen französischen user tv paket der ziel nicht gehört doch zur eidg kohäsion ',\n",
       " 'ziel danke für den link eine frage noch dazu ich habe bereits eine zusatzkarte für mein ipad bräuchte jetzt aber nochmals eine für ein zusätzliches telefon alles auf dieselbe nummer abo geht das überhaupt kann ich die dort einfach bestellen ',\n",
       " 'user ziel baut das netz entlang von zugstrecken laufend aus der netzempfang hängt von verschiedenen faktoren wie der belegung der züge und der wettbewerber der signalkontakte des zuges ab auch die anzahl nutzer die im netz eingebucht sind haben einfluss auf das mobilfunk signal ',\n",
       " 'user user stimmt sonst gäbe keine ma mehr aber kosten müssen in konkurrenzsituation runter die spirale des wettbewerbs führt zwangsläufig zu entlassungsexcessen wie bei der ziel was diese mit der konkurrenz begründet so funktioniert kapitalismus einer bleibt am schluss übrig repeat ',\n",
       " 'was ist eigentlich mit dieser ziel los am laufenden band telefonaussetzer systemabstürze und jetzt ein datenklau gröberen ausmasses und die verantwortlichen sagen sorry alles nicht so schlimm das wird langsam schon etwas dubios ',\n",
       " 'rt user ziel ich bin ziemlich sicher dass strafverfolgungsbehörden und geheimdienste auf alles zugriff haben was ihr habt … ',\n",
       " 'ziel user user user wieviele partner haben heute schon zugriff auf das hashtag voiceprint datenmaterial auch wieder number im übrigen lässt sich mit genug voicematerial stimme synthetisieren ähnlich wie mit genug bildmaterial hashtag fakeporn erstellt werden kann vgl hashtag deepfakes url ',\n",
       " 'noch eine gute nachricht von ziel heute morgen sende eine sms mit „ info “ an number und du kannst dich hoffentlich auch freuen so geht das neue hashtag datenschutzbingo url ',\n",
       " 'hashtag ziel will laut aussagen seines netzchefs das ultraschnelle mobilfunknetz bereits ab dem laufenden jahr aufbauen das unternehmen zieht den ursprünglich für number geplanten start um zwei jahre vor ',\n",
       " 'b ziel es hat sich erledigt kann jetzt via a kundennummer einloggen handynr zu wettbewerber gewechselt ',\n",
       " 'b number sparpotential pro monat wenn ich von ziel weg wechsle muss ich glaube nicht mehr lange ã¼berlegen ',\n",
       " 'b user ziel user ich empfehle kã¼ndigen ',\n",
       " 'b um number number wird gezã¼gelt von ziel zu wettbewerber und ende monat in die neue wohnung smile ']"
      ]
     },
     "execution_count": 130,
     "metadata": {},
     "output_type": "execute_result"
    }
   ],
   "source": [
    "x_de"
   ]
  },
  {
   "cell_type": "code",
   "execution_count": 144,
   "metadata": {},
   "outputs": [],
   "source": [
    "with open(\"/Users/meryemmhamdi/Desktop/x_test_pred_fold0_en.txt\", \"w\") as file:\n",
    "    for i in range(0,len(x_en)):\n",
    "        if pred_en[0][8][i] == trg_en[0][8][i]:\n",
    "            file.write(x_en[i]+\"\\t\"+str(pred_en[0][8][i])+\"\\n\")"
   ]
  },
  {
   "cell_type": "code",
   "execution_count": 143,
   "metadata": {},
   "outputs": [],
   "source": [
    "import pandas as pd\n",
    "df = pd.read_csv(\"/Users/meryemmhamdi/Downloads/out_label_full.csv\", sep =\"\\t\")\n",
    "df_new = df[df[\"label\"]!=df[\"cgt\"]]\n",
    "df_new.head()\n",
    "df_save = pd.DataFrame()\n",
    "df_save[\"text_org\"] = df_new[\"text_org\"] \n",
    "df_save.to_csv(\"/Users/meryemmhamdi/Downloads/out_label_wrong.csv\")"
   ]
  },
  {
   "cell_type": "code",
   "execution_count": 135,
   "metadata": {},
   "outputs": [
    {
     "data": {
      "text/plain": [
       "434"
      ]
     },
     "execution_count": 135,
     "metadata": {},
     "output_type": "execute_result"
    }
   ],
   "source": [
    "len(x_de)"
   ]
  },
  {
   "cell_type": "code",
   "execution_count": 113,
   "metadata": {},
   "outputs": [
    {
     "data": {
      "text/plain": [
       "dict_keys(['y_test_bot_pred_en', 'train_loss', 'test_metrics_de', 'train_metrics', 'y_test_pred_de', 'test_metrics_en', 'y_test_bot_trg_de', 'y_test_pred_en', 'y_train_trg', 'y_test_bot_trg_en', 'y_test_bot_pred_de', 'test_bot_metrics_de', 'y_test_trg_en', 'y_train_pred', 'test_bot_metrics_en', 'y_test_trg_de'])"
      ]
     },
     "execution_count": 113,
     "metadata": {},
     "output_type": "execute_result"
    }
   ],
   "source": [
    "results.keys()"
   ]
  },
  {
   "cell_type": "code",
   "execution_count": 3,
   "metadata": {},
   "outputs": [
    {
     "name": "stdout",
     "output_type": "stream",
     "text": [
      "31\n",
      "25\n",
      "31\n"
     ]
    }
   ],
   "source": [
    "#np.max(f1_scores_bot_en[8])\n",
    "print(f1_scores_bot_de[8].index(max(f1_scores_bot_de[8])))\n",
    "print(prec_scores_bot_de[8].index(max(prec_scores_bot_de[8])))\n",
    "print(rec_scores_bot_de[8].index(max(rec_scores_bot_de[8])))"
   ]
  },
  {
   "cell_type": "code",
   "execution_count": 54,
   "metadata": {},
   "outputs": [
    {
     "data": {
      "text/plain": [
       "32"
      ]
     },
     "execution_count": 54,
     "metadata": {},
     "output_type": "execute_result"
    }
   ],
   "source": [
    "f1_scores_bot_en[8].index(max(f1_scores_bot_en[8]))"
   ]
  },
  {
   "cell_type": "code",
   "execution_count": 55,
   "metadata": {},
   "outputs": [
    {
     "name": "stdout",
     "output_type": "stream",
     "text": [
      "0.6389524535977625\n",
      "0.6490338164251208\n",
      "0.5984836392657622\n"
     ]
    }
   ],
   "source": [
    "print(f1_scores_bot_de[8][32])\n",
    "print(prec_scores_bot_de[8][4])\n",
    "print(rec_scores_bot_de[8][4])"
   ]
  },
  {
   "cell_type": "code",
   "execution_count": 9,
   "metadata": {},
   "outputs": [
    {
     "name": "stdout",
     "output_type": "stream",
     "text": [
      "0.7912934581668556\n",
      "0.8284226033884037\n",
      "0.7790094761308779\n"
     ]
    }
   ],
   "source": [
    "print(f1_scores_bot_en[0][5])\n",
    "print(prec_scores_bot_en[0][5])\n",
    "print(rec_scores_bot_en[0][5])"
   ]
  },
  {
   "cell_type": "code",
   "execution_count": 2,
   "metadata": {},
   "outputs": [],
   "source": [
    "indices_max_CGA = [5, 17, 21, 36, 8, 32 , 23 , 41, 32, 6]"
   ]
  },
  {
   "cell_type": "code",
   "execution_count": 3,
   "metadata": {},
   "outputs": [],
   "source": [
    "de_scores = []\n",
    "en_scores = []\n",
    "de_scores_acc = []\n",
    "en_scores_acc = []\n",
    "de_scores_prec = []\n",
    "en_scores_prec = []\n",
    "de_scores_rec = []\n",
    "en_scores_rec = []\n",
    "for j in range(0,len(indices_max_CGA)):\n",
    "    de_scores.append(f1_scores_de[j][indices_max_CGA[j]])\n",
    "    en_scores.append(f1_scores_en[j][indices_max_CGA[j]])\n",
    "    \n",
    "    de_scores_acc.append(acc_scores_de[j][indices_max_CGA[j]])\n",
    "    en_scores_acc.append(acc_scores_en[j][indices_max_CGA[j]])\n",
    "    \n",
    "    de_scores_prec.append(prec_scores_de[j][indices_max_CGA[j]])\n",
    "    en_scores_prec.append(prec_scores_en[j][indices_max_CGA[j]])\n",
    "    \n",
    "    de_scores_rec.append(rec_scores_de[j][indices_max_CGA[j]])\n",
    "    en_scores_rec.append(rec_scores_en[j][indices_max_CGA[j]])"
   ]
  },
  {
   "cell_type": "code",
   "execution_count": 6,
   "metadata": {},
   "outputs": [
    {
     "name": "stdout",
     "output_type": "stream",
     "text": [
      "[0.8464027245636441, 0.8667775172711272, 0.8573913043478261, 0.8189314818056285, 0.8420611556395987, 0.846267933031003, 0.9025718027301834, 0.8530468199666618, 0.8958526167115756, 0.8590626024254343]\n"
     ]
    }
   ],
   "source": [
    "print(en_scores)"
   ]
  },
  {
   "cell_type": "code",
   "execution_count": 7,
   "metadata": {},
   "outputs": [
    {
     "name": "stdout",
     "output_type": "stream",
     "text": [
      "[0.7844910214215601, 0.8143156633722671, 0.7639337128766726, 0.7775846702317291, 0.8208275862068966, 0.804954954954955, 0.7710618383899743, 0.757888010224459, 0.7404717413531714, 0.7743077726824171]\n"
     ]
    }
   ],
   "source": [
    "print(de_scores)"
   ]
  },
  {
   "cell_type": "markdown",
   "metadata": {},
   "source": [
    "### p-values:"
   ]
  },
  {
   "cell_type": "code",
   "execution_count": 10,
   "metadata": {},
   "outputs": [],
   "source": [
    "en_scores = [0.842172934748, 0.851305878307, 0.847823741395, 0.843561208267]\n",
    "de_scores = [0.817246520309, 0.784574468085, 0.805158203865, 0.791039985326]"
   ]
  },
  {
   "cell_type": "code",
   "execution_count": 8,
   "metadata": {},
   "outputs": [
    {
     "data": {
      "text/plain": [
       "Ttest_1sampResult(statistic=-39917.51194013521, pvalue=3.467211651404889e-14)"
      ]
     },
     "execution_count": 8,
     "metadata": {},
     "output_type": "execute_result"
    }
   ],
   "source": [
    "import scipy.stats as stats\n",
    "stats.ttest_1samp(a= en_scores, popmean= 83.85)"
   ]
  },
  {
   "cell_type": "code",
   "execution_count": 9,
   "metadata": {},
   "outputs": [
    {
     "data": {
      "text/plain": [
       "Ttest_1sampResult(statistic=-40100.25848246648, pvalue=3.42002459175528e-14)"
      ]
     },
     "execution_count": 9,
     "metadata": {},
     "output_type": "execute_result"
    }
   ],
   "source": [
    "import scipy.stats as stats\n",
    "stats.ttest_1samp(a= en_scores, popmean= 84.23)"
   ]
  },
  {
   "cell_type": "code",
   "execution_count": 11,
   "metadata": {},
   "outputs": [
    {
     "data": {
      "text/plain": [
       "Ttest_1sampResult(statistic=-9013.295645212726, pvalue=3.0117566431377995e-12)"
      ]
     },
     "execution_count": 11,
     "metadata": {},
     "output_type": "execute_result"
    }
   ],
   "source": [
    "stats.ttest_1samp(a= de_scores, popmean= 66.69)"
   ]
  },
  {
   "cell_type": "code",
   "execution_count": 4,
   "metadata": {},
   "outputs": [
    {
     "name": "stdout",
     "output_type": "stream",
     "text": [
      "0.8588365958492682\n",
      "0.023596778947436003\n",
      "----------\n",
      "0.8594712074946781\n",
      "0.024921975390810636\n",
      "----------\n",
      "0.8594758193801212\n",
      "0.025656513867951133\n",
      "*******\n",
      "0.7809836971714101\n",
      "0.024300975094072953\n",
      "----------\n",
      "0.7861848541599972\n",
      "0.020516504327515138\n",
      "----------\n",
      "0.7772395582364936\n",
      "0.030975527233539493\n"
     ]
    }
   ],
   "source": [
    "import numpy as np\n",
    "#print(np.mean(en_scores_acc))\n",
    "print(np.mean(en_scores))\n",
    "print(np.std(en_scores))\n",
    "print(\"----------\")\n",
    "print(np.mean(en_scores_prec))\n",
    "print(np.std(en_scores_prec))\n",
    "print(\"----------\")\n",
    "print(np.mean(en_scores_rec))\n",
    "print(np.std(en_scores_rec))\n",
    "print(\"*******\")\n",
    "#print(np.mean(de_scores_acc))\n",
    "print(np.mean(de_scores))\n",
    "print(np.std(de_scores))\n",
    "print(\"----------\")\n",
    "print(np.mean(de_scores_prec))\n",
    "print(np.std(de_scores_prec))\n",
    "print(\"----------\")\n",
    "print(np.mean(de_scores_rec))\n",
    "print(np.std(de_scores_rec))"
   ]
  },
  {
   "cell_type": "code",
   "execution_count": 69,
   "metadata": {},
   "outputs": [
    {
     "name": "stdout",
     "output_type": "stream",
     "text": [
      "0.8588365958492682\n",
      "0.023596778947436003\n",
      "----------\n",
      "0.8594712074946781\n",
      "0.024921975390810636\n",
      "----------\n",
      "0.8594758193801212\n",
      "0.025656513867951133\n",
      "*******\n",
      "0.7809836971714101\n",
      "0.024300975094072953\n",
      "----------\n",
      "0.7861848541599972\n",
      "0.020516504327515138\n",
      "----------\n",
      "0.7772395582364936\n",
      "0.030975527233539493\n"
     ]
    }
   ],
   "source": [
    "import numpy as np\n",
    "#print(np.mean(en_scores_acc))\n",
    "print(np.mean(en_scores))\n",
    "print(np.std(en_scores))\n",
    "print(\"----------\")\n",
    "print(np.mean(en_scores_prec))\n",
    "print(np.std(en_scores_prec))\n",
    "print(\"----------\")\n",
    "print(np.mean(en_scores_rec))\n",
    "print(np.std(en_scores_rec))\n",
    "print(\"*******\")\n",
    "#print(np.mean(de_scores_acc))\n",
    "print(np.mean(de_scores))\n",
    "print(np.std(de_scores))\n",
    "print(\"----------\")\n",
    "print(np.mean(de_scores_prec))\n",
    "print(np.std(de_scores_prec))\n",
    "print(\"----------\")\n",
    "print(np.mean(de_scores_rec))\n",
    "print(np.std(de_scores_rec))"
   ]
  },
  {
   "cell_type": "code",
   "execution_count": 64,
   "metadata": {},
   "outputs": [
    {
     "name": "stdout",
     "output_type": "stream",
     "text": [
      "0.8391009408990362\n",
      "0.763901227438219\n"
     ]
    }
   ],
   "source": [
    "import numpy as np\n",
    "print(np.mean(en_scores))\n",
    "print(np.mean(de_scores))"
   ]
  },
  {
   "cell_type": "code",
   "execution_count": 6,
   "metadata": {},
   "outputs": [],
   "source": [
    "indices_max = [3, 2, 8, 8, 4, 2, 8, 8, 7, 2]\n",
    "indices_max_2 = [1, 1, 3, 8, 1, 2 , 9 , 8, 3, 2]"
   ]
  },
  {
   "cell_type": "code",
   "execution_count": 89,
   "metadata": {},
   "outputs": [],
   "source": [
    "indices_max_3 = [4, 6, 8, 7, 6, 3 , 4 , 9 , 7, 6]"
   ]
  },
  {
   "cell_type": "code",
   "execution_count": 108,
   "metadata": {},
   "outputs": [
    {
     "name": "stdout",
     "output_type": "stream",
     "text": [
      "5\n"
     ]
    },
    {
     "data": {
      "image/png": "[encoded data removed]",
      "text/plain": [
       "<matplotlib.figure.Figure at 0x108b08320>"
      ]
     },
     "metadata": {},
     "output_type": "display_data"
    }
   ],
   "source": [
    "import matplotlib.pyplot as plt\n",
    "%matplotlib inline\n",
    "i = 0\n",
    "plt.figure(figsize=[8,6])\n",
    "plt.plot(f1_scores_de[i],'g',linewidth=1.0)\n",
    "plt.plot(f1_scores_en[i],'r',linewidth=3.0)\n",
    "plt.legend(['Macro F1 score German', 'Macro F1 score English'],fontsize=18)\n",
    "plt.xlabel('Epochs ',fontsize=16)\n",
    "plt.ylabel('F1 Score',fontsize=16)\n",
    "plt.title('F1 Score Evolution per epoch',fontsize=16)\n",
    "print(f1_scores_de[i].index(max(f1_scores_de[i])))"
   ]
  },
  {
   "cell_type": "code",
   "execution_count": 111,
   "metadata": {},
   "outputs": [
    {
     "data": {
      "text/plain": [
       "0.777839825026758"
      ]
     },
     "execution_count": 111,
     "metadata": {},
     "output_type": "execute_result"
    }
   ],
   "source": [
    "f1_scores_de[0][8]"
   ]
  },
  {
   "cell_type": "code",
   "execution_count": 112,
   "metadata": {},
   "outputs": [
    {
     "data": {
      "text/plain": [
       "0.8504145936981757"
      ]
     },
     "execution_count": 112,
     "metadata": {},
     "output_type": "execute_result"
    }
   ],
   "source": [
    "f1_scores_en[0][8]"
   ]
  },
  {
   "cell_type": "code",
   "execution_count": 99,
   "metadata": {},
   "outputs": [
    {
     "name": "stdout",
     "output_type": "stream",
     "text": [
      "11\n"
     ]
    },
    {
     "data": {
      "image/png": "[encoded data removed]",
      "text/plain": [
       "<matplotlib.figure.Figure at 0x115adfa58>"
      ]
     },
     "metadata": {},
     "output_type": "display_data"
    }
   ],
   "source": [
    "import matplotlib.pyplot as plt\n",
    "%matplotlib inline\n",
    "i = 7\n",
    "plt.figure(figsize=[8,6])\n",
    "plt.plot(f1_scores_bot_de[i],'g',linewidth=1.0)\n",
    "plt.plot(f1_scores_bot_en[i],'r',linewidth=3.0)\n",
    "#plt.plot(rec_scores_bot_de[i],'g',linewidth=1.0)\n",
    "#plt.plot(rec_scores_bot_en[i],'r',linewidth=3.0)\n",
    "plt.legend(['Macro F1 Bot score German', 'Macro F1 Bot score English'],fontsize=18)\n",
    "plt.xlabel('Epochs ',fontsize=16)\n",
    "plt.ylabel('F1 Score',fontsize=16)\n",
    "plt.title('F1 Score Evolution per epoch',fontsize=16)\n",
    "print(f1_scores_de[i].index(max(f1_scores_de[i])))"
   ]
  },
  {
   "cell_type": "code",
   "execution_count": 100,
   "metadata": {},
   "outputs": [
    {
     "data": {
      "text/plain": [
       "35"
      ]
     },
     "execution_count": 100,
     "metadata": {},
     "output_type": "execute_result"
    }
   ],
   "source": [
    "f1_scores_bot_de[7].index(max(f1_scores_bot_de[7]))"
   ]
  },
  {
   "cell_type": "code",
   "execution_count": 102,
   "metadata": {},
   "outputs": [
    {
     "data": {
      "text/plain": [
       "0.733652312599681"
      ]
     },
     "execution_count": 102,
     "metadata": {},
     "output_type": "execute_result"
    }
   ],
   "source": [
    "f1_scores_bot_de[7][35]"
   ]
  },
  {
   "cell_type": "code",
   "execution_count": 104,
   "metadata": {},
   "outputs": [
    {
     "data": {
      "text/plain": [
       "0.7357625482625483"
      ]
     },
     "execution_count": 104,
     "metadata": {},
     "output_type": "execute_result"
    }
   ],
   "source": [
    "prec_scores_bot_de[7][35]"
   ]
  },
  {
   "cell_type": "code",
   "execution_count": 103,
   "metadata": {},
   "outputs": [
    {
     "data": {
      "text/plain": [
       "0.7318095539386271"
      ]
     },
     "execution_count": 103,
     "metadata": {},
     "output_type": "execute_result"
    }
   ],
   "source": [
    "rec_scores_bot_de[7][35]"
   ]
  },
  {
   "cell_type": "code",
   "execution_count": 105,
   "metadata": {},
   "outputs": [
    {
     "data": {
      "text/plain": [
       "0.7945556626779335"
      ]
     },
     "execution_count": 105,
     "metadata": {},
     "output_type": "execute_result"
    }
   ],
   "source": [
    "f1_scores_bot_en[7][35]"
   ]
  },
  {
   "cell_type": "code",
   "execution_count": 76,
   "metadata": {},
   "outputs": [
    {
     "data": {
      "text/plain": [
       "0.8475138623761476"
      ]
     },
     "execution_count": 76,
     "metadata": {},
     "output_type": "execute_result"
    }
   ],
   "source": [
    "prec_scores_bot_en[2][14]"
   ]
  },
  {
   "cell_type": "code",
   "execution_count": 77,
   "metadata": {},
   "outputs": [
    {
     "data": {
      "text/plain": [
       "0.8417664938315752"
      ]
     },
     "execution_count": 77,
     "metadata": {},
     "output_type": "execute_result"
    }
   ],
   "source": [
    "rec_scores_bot_en[2][14]"
   ]
  },
  {
   "cell_type": "code",
   "execution_count": 42,
   "metadata": {},
   "outputs": [
    {
     "data": {
      "text/plain": [
       "0.5543211076700877"
      ]
     },
     "execution_count": 42,
     "metadata": {},
     "output_type": "execute_result"
    }
   ],
   "source": [
    "f1_scores_bot_de[0][1]"
   ]
  },
  {
   "cell_type": "code",
   "execution_count": 40,
   "metadata": {},
   "outputs": [
    {
     "data": {
      "text/plain": [
       "5"
      ]
     },
     "execution_count": 40,
     "metadata": {},
     "output_type": "execute_result"
    }
   ],
   "source": []
  },
  {
   "cell_type": "code",
   "execution_count": 25,
   "metadata": {},
   "outputs": [
    {
     "name": "stdout",
     "output_type": "stream",
     "text": [
      "f1_scores_de[1][1]= 0.8118279569892473\n",
      "f1_scores_en[1][1]= 0.8205075147777985\n"
     ]
    }
   ],
   "source": [
    "print(\"f1_scores_de[1][1]=\",f1_scores_de[1][1])\n",
    "print(\"f1_scores_en[1][1]=\",f1_scores_en[1][1])"
   ]
  }
 ],
 "metadata": {
  "kernelspec": {
   "display_name": "Python 3",
   "language": "python",
   "name": "python3"
  },
  "language_info": {
   "codemirror_mode": {
    "name": "ipython",
    "version": 3
   },
   "file_extension": ".py",
   "mimetype": "text/x-python",
   "name": "python",
   "nbconvert_exporter": "python",
   "pygments_lexer": "ipython3",
   "version": "3.6.4"
  }
 },
 "nbformat": 4,
 "nbformat_minor": 1
}
